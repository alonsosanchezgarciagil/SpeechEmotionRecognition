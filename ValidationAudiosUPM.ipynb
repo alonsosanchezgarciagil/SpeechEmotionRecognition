{
 "cells": [
  {
   "cell_type": "code",
   "execution_count": 1,
   "metadata": {
    "ExecuteTime": {
     "end_time": "2024-06-07T22:04:01.077698Z",
     "start_time": "2024-06-07T22:03:57.389631Z"
    }
   },
   "outputs": [
    {
     "name": "stdout",
     "output_type": "stream",
     "text": [
      "Loaded model from disk\n"
     ]
    }
   ],
   "source": [
    "from tensorflow.keras.models import Sequential, model_from_json\n",
    "json_file = open('Model/CNN_model.json', 'r')\n",
    "loaded_model_json = json_file.read()\n",
    "json_file.close()\n",
    "loaded_model = model_from_json(loaded_model_json)\n",
    "# load weights into new model\n",
    "loaded_model.load_weights(\"Model/CNN_model_weights.h5\")\n",
    "print(\"Loaded model from disk\")"
   ]
  },
  {
   "cell_type": "code",
   "execution_count": 2,
   "metadata": {
    "ExecuteTime": {
     "end_time": "2024-06-07T22:04:01.493104Z",
     "start_time": "2024-06-07T22:04:01.086602Z"
    }
   },
   "outputs": [
    {
     "name": "stdout",
     "output_type": "stream",
     "text": [
      "Done\n"
     ]
    }
   ],
   "source": [
    "import pickle\n",
    "\n",
    "with open('Model/scaler2.pickle', 'rb') as f:\n",
    "    scaler2 = pickle.load(f)\n",
    "    \n",
    "with open('Model/encoder2.pickle', 'rb') as f:\n",
    "    encoder2 = pickle.load(f)\n",
    "\n",
    "    \n",
    "print(\"Done\")   "
   ]
  },
  {
   "cell_type": "code",
   "execution_count": 3,
   "metadata": {
    "ExecuteTime": {
     "end_time": "2024-06-07T22:04:01.987263Z",
     "start_time": "2024-06-07T22:04:01.495690Z"
    }
   },
   "outputs": [],
   "source": [
    "import librosa\n",
    "def zcr(data,frame_length,hop_length):\n",
    "    zcr=librosa.feature.zero_crossing_rate(data,frame_length=frame_length,hop_length=hop_length)\n",
    "    return np.squeeze(zcr)\n",
    "def rmse(data,frame_length=2048,hop_length=512):\n",
    "    rmse=librosa.feature.rms(data,frame_length=frame_length,hop_length=hop_length)\n",
    "    return np.squeeze(rmse)\n",
    "def mfcc(data,sr,frame_length=2048,hop_length=512,flatten:bool=True):\n",
    "    mfcc=librosa.feature.mfcc(data,sr=sr)\n",
    "    return np.squeeze(mfcc.T)if not flatten else np.ravel(mfcc.T)\n",
    "\n",
    "def extract_features(data,sr=22050,frame_length=2048,hop_length=512):\n",
    "    result=np.array([])\n",
    "    \n",
    "    result=np.hstack((result,\n",
    "                      zcr(data,frame_length,hop_length),\n",
    "                      rmse(data,frame_length,hop_length),\n",
    "                      mfcc(data,sr,frame_length,hop_length)\n",
    "                     ))\n",
    "    return result"
   ]
  },
  {
   "cell_type": "code",
   "execution_count": 4,
   "metadata": {
    "ExecuteTime": {
     "end_time": "2024-06-07T22:04:02.169187Z",
     "start_time": "2024-06-07T22:04:01.989744Z"
    }
   },
   "outputs": [],
   "source": [
    "import numpy as np\n",
    "import librosa\n",
    "def get_predict_feat(path):\n",
    "    d, s_rate= librosa.load(path, duration=2.5, offset=0.6)\n",
    "    res=extract_features(d)\n",
    "    features=np.array(res)\n",
    "    result= np.zeros(2376)\n",
    "    result[:features.size] = features\n",
    "    result=np.reshape(result,newshape=(1,2376))\n",
    "    i_result = scaler2.transform(result)\n",
    "    final_result=np.expand_dims(i_result, axis=2)\n",
    "    \n",
    "    return final_result"
   ]
  },
  {
   "cell_type": "code",
   "execution_count": 5,
   "metadata": {
    "ExecuteTime": {
     "end_time": "2024-06-07T22:04:02.175996Z",
     "start_time": "2024-06-07T22:04:02.171613Z"
    }
   },
   "outputs": [],
   "source": [
    "emotions1={1:'Neutral', 2:'Calm', 3:'Happy', 4:'Sad', 5:'Angry', 6:'Fear', 7:'Disgust',8:'Surprise'}\n",
    "def prediction(path1):\n",
    "    res=get_predict_feat(path1)\n",
    "    predictions=loaded_model.predict(res)\n",
    "    y_pred = encoder2.inverse_transform(predictions)  \n",
    "    result = y_pred[0][0]\n",
    "    return result"
   ]
  },
  {
   "cell_type": "code",
   "execution_count": 6,
   "metadata": {
    "ExecuteTime": {
     "end_time": "2024-06-07T22:04:02.183788Z",
     "start_time": "2024-06-07T22:04:02.179053Z"
    }
   },
   "outputs": [],
   "source": [
    "def get_first_time(input_string):\n",
    "    # Find the first underscore\n",
    "    first_underscore_index = input_string.find('_')\n",
    "    \n",
    "    # Find the second underscore after the first one\n",
    "    second_underscore_index = input_string.find('_', first_underscore_index + 1)\n",
    "    \n",
    "    # Find the first period after the second underscore\n",
    "    if second_underscore_index != -1:\n",
    "        # Find the first hyphen\n",
    "        first_hyphen_index = input_string.find('-')\n",
    "    \n",
    "        # Find the second hyphen after the first one\n",
    "        second_hyphen_index = input_string.find('-', first_hyphen_index + 1)\n",
    "        \n",
    "        # Extract the substring between the second underscore and the first period\n",
    "        if second_hyphen_index != -1:\n",
    "            return input_string[second_underscore_index + 1:second_hyphen_index]\n",
    "    \n",
    "    # Return None if the conditions are not met\n",
    "    return None"
   ]
  },
  {
   "cell_type": "code",
   "execution_count": 7,
   "metadata": {
    "ExecuteTime": {
     "end_time": "2024-06-07T22:04:02.191424Z",
     "start_time": "2024-06-07T22:04:02.186360Z"
    }
   },
   "outputs": [],
   "source": [
    "def get_second_time(input_string):\n",
    "    # Find the first hyphen\n",
    "    first_hyphen_index = input_string.find('-')\n",
    "    \n",
    "    # Find the second hyphen after the first one\n",
    "    second_hyphen_index = input_string.find('-', first_hyphen_index + 1)\n",
    "    \n",
    "    # Find the first period\n",
    "    first_period_index = input_string.find('.')\n",
    "    \n",
    "    # Find the second period after the first one\n",
    "    second_period_index = input_string.find('.', first_period_index + 1)\n",
    "    \n",
    "    # Find the second period after the first one\n",
    "    third_period_index = input_string.find('.', second_period_index + 1)\n",
    "    \n",
    "    # Extract the substring between the second hyphen and the second period\n",
    "    if second_hyphen_index != -1 and third_period_index != -1:\n",
    "        return input_string[second_hyphen_index + 1:third_period_index]\n",
    "    \n",
    "    # Return None if the conditions are not met\n",
    "    return None"
   ]
  },
  {
   "cell_type": "code",
   "execution_count": 8,
   "metadata": {
    "ExecuteTime": {
     "end_time": "2024-06-07T22:05:05.988238Z",
     "start_time": "2024-06-07T22:04:02.193581Z"
    }
   },
   "outputs": [
    {
     "name": "stdout",
     "output_type": "stream",
     "text": [
      "disgust     91\n",
      "happy       49\n",
      "sad         44\n",
      "neutral     32\n",
      "angry       31\n",
      "fear        16\n",
      "surprise     5\n",
      "Name: Emotions, dtype: int64\n"
     ]
    }
   ],
   "source": [
    "import os\n",
    "import pandas as pd\n",
    "directory = \"Segmentation/IWM42_20231213/\"\n",
    "directory_list = os.listdir(directory)\n",
    "\n",
    "emotion = []\n",
    "file_name = []\n",
    "good = 0\n",
    "bad = 0\n",
    "\n",
    "for dir in directory_list: \n",
    "    directories = os.listdir(directory + dir)\n",
    "    for file in directories:\n",
    "        if \".wav\" in file:\n",
    "            time1 = float(get_second_time(file))\n",
    "            time2 = float(get_first_time(file))\n",
    "            if (time1 - time2) >= 1.000:\n",
    "                file_name.append(file)\n",
    "                emotion.append(prediction(directory+ dir + '/' + file))\n",
    "\n",
    "result = pd.DataFrame(columns=['File_name', 'Emotions'])\n",
    "result['Emotions'] = emotion\n",
    "result['File_name'] = file_name\n",
    "result.to_csv(directory+'emotionReults.csv', index=False)   \n",
    "print(result.Emotions.value_counts())"
   ]
  },
  {
   "cell_type": "code",
   "execution_count": 9,
   "metadata": {
    "ExecuteTime": {
     "end_time": "2024-06-07T22:06:48.025223Z",
     "start_time": "2024-06-07T22:05:05.992598Z"
    }
   },
   "outputs": [
    {
     "name": "stdout",
     "output_type": "stream",
     "text": [
      "neutral     148\n",
      "angry       127\n",
      "sad          96\n",
      "happy        89\n",
      "disgust      44\n",
      "fear         30\n",
      "surprise      2\n",
      "Name: Emotions, dtype: int64\n"
     ]
    }
   ],
   "source": [
    "import os\n",
    "import pandas as pd\n",
    "directory = \"Segmentation/IWT_20231212/\"\n",
    "directory_list = os.listdir(directory)\n",
    "\n",
    "emotion = []\n",
    "file_name = []\n",
    "good = 0\n",
    "bad = 0\n",
    "\n",
    "for dir in directory_list: \n",
    "    directories = os.listdir(directory + dir)\n",
    "    for file in directories:\n",
    "        if \".wav\" in file:\n",
    "            time1 = float(get_second_time(file))\n",
    "            time2 = float(get_first_time(file))\n",
    "            if (time1 - time2) >= 1.000:\n",
    "                file_name.append(file)\n",
    "                emotion.append(prediction(directory+ dir + '/' + file))\n",
    "\n",
    "result = pd.DataFrame(columns=['File_name', 'Emotions'])\n",
    "result['Emotions'] = emotion\n",
    "result['File_name'] = file_name\n",
    "result.to_csv(directory+'emotionReults.csv', index=False) \n",
    "print(result.Emotions.value_counts())"
   ]
  },
  {
   "cell_type": "code",
   "execution_count": 10,
   "metadata": {
    "ExecuteTime": {
     "end_time": "2024-06-07T22:08:45.413547Z",
     "start_time": "2024-06-07T22:06:48.028226Z"
    }
   },
   "outputs": [
    {
     "name": "stdout",
     "output_type": "stream",
     "text": [
      "angry       185\n",
      "happy       145\n",
      "sad          72\n",
      "neutral      70\n",
      "disgust      50\n",
      "fear         41\n",
      "surprise     14\n",
      "Name: Emotions, dtype: int64\n"
     ]
    }
   ],
   "source": [
    "import os\n",
    "import pandas as pd\n",
    "directory = \"Segmentation/IWT_20231213/\"\n",
    "directory_list = os.listdir(directory)\n",
    "\n",
    "emotion = []\n",
    "file_name = []\n",
    "good = 0\n",
    "bad = 0\n",
    "\n",
    "for dir in directory_list: \n",
    "    directories = os.listdir(directory + dir)\n",
    "    for file in directories:\n",
    "        if \".wav\" in file:\n",
    "            time1 = float(get_second_time(file))\n",
    "            time2 = float(get_first_time(file))\n",
    "            if (time1 - time2) >= 1.000:\n",
    "                file_name.append(file)\n",
    "                emotion.append(prediction(directory+ dir + '/' + file))\n",
    "\n",
    "result = pd.DataFrame(columns=['File_name', 'Emotions'])\n",
    "result['Emotions'] = emotion\n",
    "result['File_name'] = file_name\n",
    "result.to_csv(directory+'emotionReults.csv', index=False)  \n",
    "print(result.Emotions.value_counts())"
   ]
  },
  {
   "cell_type": "code",
   "execution_count": 11,
   "metadata": {
    "ExecuteTime": {
     "end_time": "2024-06-07T22:09:49.909827Z",
     "start_time": "2024-06-07T22:08:45.416508Z"
    }
   },
   "outputs": [
    {
     "name": "stdout",
     "output_type": "stream",
     "text": [
      "sad         91\n",
      "neutral     75\n",
      "disgust     66\n",
      "happy       38\n",
      "fear        24\n",
      "angry       18\n",
      "surprise     1\n",
      "Name: Emotions, dtype: int64\n"
     ]
    }
   ],
   "source": [
    "import os\n",
    "import pandas as pd\n",
    "directory = \"Segmentation/IWTM42_20231215/\"\n",
    "directory_list = os.listdir(directory)\n",
    "\n",
    "emotion = []\n",
    "file_name = []\n",
    "good = 0\n",
    "bad = 0\n",
    "\n",
    "for dir in directory_list: \n",
    "    directories = os.listdir(directory + dir)\n",
    "    for file in directories:\n",
    "        if \".wav\" in file:\n",
    "            time1 = float(get_second_time(file))\n",
    "            time2 = float(get_first_time(file))\n",
    "            if (time1 - time2) >= 1.000:\n",
    "                file_name.append(file)\n",
    "                emotion.append(prediction(directory+ dir + '/' + file))\n",
    "\n",
    "result = pd.DataFrame(columns=['File_name', 'Emotions'])\n",
    "result['Emotions'] = emotion\n",
    "result['File_name'] = file_name\n",
    "result.to_csv(directory+'emotionReults.csv', index=False)\n",
    "print(result.Emotions.value_counts())"
   ]
  }
 ],
 "metadata": {
  "kernelspec": {
   "display_name": "Python 3",
   "language": "python",
   "name": "python3"
  },
  "language_info": {
   "codemirror_mode": {
    "name": "ipython",
    "version": 3
   },
   "file_extension": ".py",
   "mimetype": "text/x-python",
   "name": "python",
   "nbconvert_exporter": "python",
   "pygments_lexer": "ipython3",
   "version": "3.8.5"
  },
  "toc": {
   "base_numbering": 1,
   "nav_menu": {},
   "number_sections": false,
   "sideBar": true,
   "skip_h1_title": false,
   "title_cell": "Table of Contents",
   "title_sidebar": "Contents",
   "toc_cell": false,
   "toc_position": {},
   "toc_section_display": true,
   "toc_window_display": false
  }
 },
 "nbformat": 4,
 "nbformat_minor": 4
}
