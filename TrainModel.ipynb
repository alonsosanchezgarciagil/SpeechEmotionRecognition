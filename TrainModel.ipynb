{
 "cells": [
  {
   "cell_type": "markdown",
   "id": "630305d9",
   "metadata": {},
   "source": [
    "## Including Libraries"
   ]
  },
  {
   "cell_type": "code",
   "execution_count": 1,
   "metadata": {
    "ExecuteTime": {
     "end_time": "2024-03-01T17:28:27.986124Z",
     "start_time": "2024-03-01T17:28:24.126205Z"
    }
   },
   "outputs": [
    {
     "name": "stdout",
     "output_type": "stream",
     "text": [
      "Done\n"
     ]
    }
   ],
   "source": [
    "#IMPORT THE LIBRARIES\n",
    "import pandas as pd\n",
    "import numpy as np\n",
    "\n",
    "import os\n",
    "import sys\n",
    "\n",
    "# librosa is a Python library for analyzing audio and music. It can be used to extract the data from the audio files we will see it later.\n",
    "import librosa\n",
    "import librosa.display\n",
    "import seaborn as sns\n",
    "import matplotlib.pyplot as plt\n",
    "\n",
    "from sklearn.preprocessing import StandardScaler, OneHotEncoder\n",
    "from sklearn.metrics import confusion_matrix, classification_report\n",
    "from sklearn.model_selection import train_test_split\n",
    "\n",
    "# to play the audio files\n",
    "import IPython.display as ipd\n",
    "from IPython.display import Audio\n",
    "import keras\n",
    "from keras.preprocessing import sequence\n",
    "from keras.models import Sequential\n",
    "from keras.layers import Dense, Embedding\n",
    "from keras.layers import LSTM,BatchNormalization , GRU\n",
    "from keras.preprocessing.text import Tokenizer\n",
    "from keras.preprocessing.sequence import pad_sequences\n",
    "from tensorflow.keras.utils import to_categorical\n",
    "from keras.layers import Input, Flatten, Dropout, Activation\n",
    "from keras.layers import Conv1D, MaxPooling1D, AveragePooling1D\n",
    "from keras.models import Model\n",
    "from keras.callbacks import ModelCheckpoint\n",
    "from tensorflow.keras.optimizers import SGD\n",
    "\n",
    "\n",
    "\n",
    "import warnings\n",
    "if not sys.warnoptions:\n",
    "    warnings.simplefilter(\"ignore\")\n",
    "warnings.filterwarnings(\"ignore\", category=DeprecationWarning) \n",
    "import tensorflow as tf \n",
    "print (\"Done\")"
   ]
  },
  {
   "cell_type": "markdown",
   "id": "c17556b2",
   "metadata": {},
   "source": [
    "## Including the Datasets"
   ]
  },
  {
   "cell_type": "code",
   "execution_count": 2,
   "metadata": {
    "ExecuteTime": {
     "end_time": "2024-03-01T17:28:27.991755Z",
     "start_time": "2024-03-01T17:28:27.988529Z"
    }
   },
   "outputs": [],
   "source": [
    "#Those are the data sets, we will be using to train the model\n",
    "ravdess = \"DATA/DATA/ravdess/\"\n",
    "Crema = \"DATA/DATA/AudioWAV/\"\n",
    "Tess = \"DATA/DATA/TESS Toronto emotional speech set data/\"\n",
    "Savee = \"DATA/DATA/ALL/\"\n",
    "ravdess_directory_list = os.listdir(ravdess)"
   ]
  },
  {
   "cell_type": "markdown",
   "id": "c248fc2a",
   "metadata": {},
   "source": [
    "## Preprocessing\n"
   ]
  },
  {
   "cell_type": "markdown",
   "id": "8088cef0",
   "metadata": {},
   "source": [
    "#### Ravdees dataset"
   ]
  },
  {
   "cell_type": "code",
   "execution_count": 3,
   "metadata": {
    "ExecuteTime": {
     "end_time": "2024-03-01T17:28:28.002263Z",
     "start_time": "2024-03-01T17:28:27.994007Z"
    }
   },
   "outputs": [],
   "source": [
    "file_emotion = []\n",
    "file_path = []\n",
    "for i in ravdess_directory_list:\n",
    "    # as their are 24 different actors in our previous directory we need to extract files for each actor.\n",
    "    actor = os.listdir(ravdess + i)\n",
    "    for f in actor:\n",
    "        part = f.split('.')[0].split('-')\n",
    "    # third part in each file represents the emotion associated to that file.\n",
    "        file_emotion.append(int(part[2]))\n",
    "        file_path.append(ravdess + i + '/' + f)"
   ]
  },
  {
   "cell_type": "code",
   "execution_count": 4,
   "metadata": {
    "ExecuteTime": {
     "end_time": "2024-03-01T17:28:28.482822Z",
     "start_time": "2024-03-01T17:28:28.464375Z"
    }
   },
   "outputs": [
    {
     "name": "stdout",
     "output_type": "stream",
     "text": [
      "neutral     287\n",
      "surprise    192\n",
      "disgust     192\n",
      "fear        192\n",
      "happy       192\n",
      "angry       192\n",
      "sad         192\n",
      "Name: Emotions, dtype: int64\n"
     ]
    }
   ],
   "source": [
    "# dataframe for emotion of files\n",
    "emotion_df = pd.DataFrame(file_emotion, columns=['Emotions'])\n",
    "# dataframe for path of files.\n",
    "path_df = pd.DataFrame(file_path, columns=['Path'])\n",
    "ravdess_df = pd.concat([emotion_df, path_df], axis=1)\n",
    "# changing integers to actual emotions.\n",
    "ravdess_df.Emotions.replace({1:'neutral', 2:'neutral', 3:'happy', 4:'sad', 5:'angry', 6:'fear', 7:'disgust',\n",
    "                             8:'surprise'},\n",
    "                            inplace=True)\n",
    "\n",
    "print(ravdess_df.Emotions.value_counts())"
   ]
  },
  {
   "cell_type": "markdown",
   "id": "abd6cb08",
   "metadata": {},
   "source": [
    "#### Crema dataset"
   ]
  },
  {
   "cell_type": "code",
   "execution_count": 5,
   "metadata": {
    "ExecuteTime": {
     "end_time": "2024-03-01T17:28:29.564771Z",
     "start_time": "2024-03-01T17:28:29.544073Z"
    }
   },
   "outputs": [],
   "source": [
    "crema_directory_list = os.listdir(Crema)\n",
    "\n",
    "file_emotion = []\n",
    "file_path = []\n",
    "\n",
    "for file in crema_directory_list:\n",
    "    # storing file paths\n",
    "    file_path.append(Crema + file)\n",
    "    # storing file emotions\n",
    "    part=file.split('_')\n",
    "    if part[2] == 'SAD':\n",
    "        file_emotion.append('sad')\n",
    "    elif part[2] == 'ANG':\n",
    "        file_emotion.append('angry')\n",
    "    elif part[2] == 'DIS':\n",
    "        file_emotion.append('disgust')\n",
    "    elif part[2] == 'FEA':\n",
    "        file_emotion.append('fear')\n",
    "    elif part[2] == 'HAP':\n",
    "        file_emotion.append('happy')\n",
    "    elif part[2] == 'NEU':\n",
    "        file_emotion.append('neutral')\n",
    "    else:\n",
    "        file_emotion.append('Unknown')"
   ]
  },
  {
   "cell_type": "code",
   "execution_count": 6,
   "metadata": {
    "ExecuteTime": {
     "end_time": "2024-03-01T17:28:30.388984Z",
     "start_time": "2024-03-01T17:28:30.378227Z"
    }
   },
   "outputs": [
    {
     "name": "stdout",
     "output_type": "stream",
     "text": [
      "sad        1271\n",
      "fear       1271\n",
      "happy      1271\n",
      "disgust    1271\n",
      "angry      1271\n",
      "neutral    1087\n",
      "Name: Emotions, dtype: int64\n"
     ]
    }
   ],
   "source": [
    "# dataframe for emotion of files\n",
    "emotion_df = pd.DataFrame(file_emotion, columns=['Emotions'])\n",
    "\n",
    "# dataframe for path of files.\n",
    "path_df = pd.DataFrame(file_path, columns=['Path'])\n",
    "Crema_df = pd.concat([emotion_df, path_df], axis=1)\n",
    "Crema_df.head()\n",
    "print(Crema_df.Emotions.value_counts())"
   ]
  },
  {
   "cell_type": "markdown",
   "id": "ebcda315",
   "metadata": {},
   "source": [
    "#### TESS dataset"
   ]
  },
  {
   "cell_type": "code",
   "execution_count": 7,
   "metadata": {
    "ExecuteTime": {
     "end_time": "2024-03-01T17:28:31.286749Z",
     "start_time": "2024-03-01T17:28:31.267201Z"
    }
   },
   "outputs": [
    {
     "name": "stdout",
     "output_type": "stream",
     "text": [
      "surprise    400\n",
      "disgust     400\n",
      "angry       400\n",
      "sad         400\n",
      "neutral     400\n",
      "fear        400\n",
      "happy       400\n",
      "Name: Emotions, dtype: int64\n"
     ]
    }
   ],
   "source": [
    "tess_directory_list = os.listdir(Tess)\n",
    "\n",
    "file_emotion = []\n",
    "file_path = []\n",
    "\n",
    "for dir in tess_directory_list:\n",
    "    directories = os.listdir(Tess + dir)\n",
    "    for file in directories:\n",
    "        if \".\" in file:\n",
    "            part = file.split('.')[0]\n",
    "            part = part.split('_')[2]\n",
    "            if part=='ps':\n",
    "                file_emotion.append('surprise')\n",
    "            else:\n",
    "                file_emotion.append(part)\n",
    "            file_path.append(Tess + dir + '/' + file)\n",
    "        \n",
    "# dataframe for emotion of files\n",
    "emotion_df = pd.DataFrame(file_emotion, columns=['Emotions'])\n",
    "\n",
    "# dataframe for path of files.\n",
    "path_df = pd.DataFrame(file_path, columns=['Path'])\n",
    "Tess_df = pd.concat([emotion_df, path_df], axis=1)\n",
    "Tess_df.head()\n",
    "print(Tess_df.Emotions.value_counts())"
   ]
  },
  {
   "cell_type": "markdown",
   "id": "742362a6",
   "metadata": {},
   "source": [
    "#### SAVEE Dataset"
   ]
  },
  {
   "cell_type": "code",
   "execution_count": 8,
   "metadata": {
    "ExecuteTime": {
     "end_time": "2024-03-01T17:28:32.042490Z",
     "start_time": "2024-03-01T17:28:32.028375Z"
    }
   },
   "outputs": [
    {
     "name": "stdout",
     "output_type": "stream",
     "text": [
      "neutral     120\n",
      "happy        60\n",
      "disgust      60\n",
      "fear         60\n",
      "surprise     60\n",
      "sad          60\n",
      "angry        60\n",
      "Name: Emotions, dtype: int64\n"
     ]
    }
   ],
   "source": [
    "savee_directory_list = os.listdir(Savee)\n",
    "\n",
    "file_emotion = []\n",
    "file_path = []\n",
    "\n",
    "for file in savee_directory_list:\n",
    "    file_path.append(Savee + file)\n",
    "    part = file.split('_')[1]\n",
    "    ele = part[:-6]\n",
    "    if ele=='a':\n",
    "        file_emotion.append('angry')\n",
    "    elif ele=='d':\n",
    "        file_emotion.append('disgust')\n",
    "    elif ele=='f':\n",
    "        file_emotion.append('fear')\n",
    "    elif ele=='h':\n",
    "        file_emotion.append('happy')\n",
    "    elif ele=='n':\n",
    "        file_emotion.append('neutral')\n",
    "    elif ele=='sa':\n",
    "        file_emotion.append('sad')\n",
    "    else:\n",
    "        file_emotion.append('surprise')\n",
    "        \n",
    "# dataframe for emotion of files\n",
    "emotion_df = pd.DataFrame(file_emotion, columns=['Emotions'])\n",
    "\n",
    "# dataframe for path of files.\n",
    "path_df = pd.DataFrame(file_path, columns=['Path'])\n",
    "Savee_df = pd.concat([emotion_df, path_df], axis=1)\n",
    "Savee_df.head()\n",
    "print(Savee_df.Emotions.value_counts())"
   ]
  },
  {
   "cell_type": "markdown",
   "id": "a6aac00c",
   "metadata": {},
   "source": [
    "#### Integrate datasets"
   ]
  },
  {
   "cell_type": "code",
   "execution_count": 9,
   "metadata": {
    "ExecuteTime": {
     "end_time": "2024-03-01T17:28:32.695497Z",
     "start_time": "2024-03-01T17:28:32.635903Z"
    }
   },
   "outputs": [
    {
     "data": {
      "text/html": [
       "<div>\n",
       "<style scoped>\n",
       "    .dataframe tbody tr th:only-of-type {\n",
       "        vertical-align: middle;\n",
       "    }\n",
       "\n",
       "    .dataframe tbody tr th {\n",
       "        vertical-align: top;\n",
       "    }\n",
       "\n",
       "    .dataframe thead th {\n",
       "        text-align: right;\n",
       "    }\n",
       "</style>\n",
       "<table border=\"1\" class=\"dataframe\">\n",
       "  <thead>\n",
       "    <tr style=\"text-align: right;\">\n",
       "      <th></th>\n",
       "      <th>Emotions</th>\n",
       "      <th>Path</th>\n",
       "    </tr>\n",
       "  </thead>\n",
       "  <tbody>\n",
       "    <tr>\n",
       "      <th>0</th>\n",
       "      <td>angry</td>\n",
       "      <td>DATA/DATA/ravdess/Actor_02/03-01-05-01-01-02-0...</td>\n",
       "    </tr>\n",
       "  </tbody>\n",
       "</table>\n",
       "</div>"
      ],
      "text/plain": [
       "  Emotions                                               Path\n",
       "0    angry  DATA/DATA/ravdess/Actor_02/03-01-05-01-01-02-0..."
      ]
     },
     "execution_count": 9,
     "metadata": {},
     "output_type": "execute_result"
    }
   ],
   "source": [
    "# creating Dataframe using all the 3 dataframes we created so far.\n",
    "data_path = pd.concat([ravdess_df, Crema_df, Tess_df, Savee_df], axis = 0)\n",
    "data_path.to_csv(\"data_path.csv\",index=False)\n",
    "data_path.head(1)"
   ]
  },
  {
   "cell_type": "code",
   "execution_count": 10,
   "metadata": {
    "ExecuteTime": {
     "end_time": "2024-03-01T17:28:33.801683Z",
     "start_time": "2024-03-01T17:28:33.793276Z"
    }
   },
   "outputs": [
    {
     "name": "stdout",
     "output_type": "stream",
     "text": [
      "sad         1923\n",
      "happy       1923\n",
      "fear        1923\n",
      "disgust     1923\n",
      "angry       1923\n",
      "neutral     1894\n",
      "surprise     652\n",
      "Name: Emotions, dtype: int64\n"
     ]
    }
   ],
   "source": [
    "print(data_path.Emotions.value_counts())"
   ]
  },
  {
   "cell_type": "markdown",
   "id": "1ec7f9a5",
   "metadata": {},
   "source": [
    "## Data augmentation"
   ]
  },
  {
   "cell_type": "markdown",
   "id": "f0a19e2c",
   "metadata": {},
   "source": [
    "###### Data augmentation is a technique of artificially increasing the training set by creating modified copies of a dataset using existing data. This is used to create elements with new variations in order to predict every audio. "
   ]
  },
  {
   "cell_type": "code",
   "execution_count": 11,
   "metadata": {
    "ExecuteTime": {
     "end_time": "2024-03-01T17:28:34.582184Z",
     "start_time": "2024-03-01T17:28:34.575966Z"
    }
   },
   "outputs": [],
   "source": [
    "# NOISE\n",
    "def noise(data):\n",
    "    noise_amp = 0.035*np.random.uniform()*np.amax(data)\n",
    "    data = data + noise_amp*np.random.normal(size=data.shape[0])\n",
    "    return data\n",
    "\n",
    "# STRETCH\n",
    "def stretch(data, rate=0.8):\n",
    "    return librosa.effects.time_stretch(data, rate)\n",
    "# PITCH\n",
    "def pitch(data, sampling_rate, pitch_factor=0.7):\n",
    "    return librosa.effects.pitch_shift(data, sampling_rate, pitch_factor)"
   ]
  },
  {
   "cell_type": "markdown",
   "id": "e6e8f3ef",
   "metadata": {},
   "source": [
    "## Feature extraction"
   ]
  },
  {
   "cell_type": "code",
   "execution_count": 12,
   "metadata": {
    "ExecuteTime": {
     "end_time": "2024-03-01T17:28:35.535397Z",
     "start_time": "2024-03-01T17:28:35.523510Z"
    }
   },
   "outputs": [],
   "source": [
    "#The rate of sign-changes of the signal during the frame\n",
    "def zcr(data,frame_length,hop_length):\n",
    "    zcr=librosa.feature.zero_crossing_rate(data,frame_length=frame_length,hop_length=hop_length)\n",
    "    return np.squeeze(zcr)\n",
    "#The electrical power your audio signal creates over time\n",
    "def rmse(data,frame_length=2048,hop_length=512):\n",
    "    rmse=librosa.feature.rms(data,frame_length=frame_length,hop_length=hop_length)\n",
    "    return np.squeeze(rmse)\n",
    "#Set of coefficients that capture the shape of the power spectrum of a sound signa\n",
    "def mfcc(data,sr,frame_length=2048,hop_length=512,flatten:bool=True):\n",
    "    mfcc=librosa.feature.mfcc(data,sr=sr)\n",
    "    return np.squeeze(mfcc.T)if not flatten else np.ravel(mfcc.T)\n",
    "\n",
    "def extract_features(data,sr=22050,frame_length=2048,hop_length=512):\n",
    "    result=np.array([])\n",
    "    \n",
    "    result=np.hstack((result,\n",
    "                      zcr(data,frame_length,hop_length),\n",
    "                      rmse(data,frame_length,hop_length),\n",
    "                      mfcc(data,sr,frame_length,hop_length)\n",
    "                     ))\n",
    "    return result\n",
    "\n",
    "def get_features(path,duration=2.5, offset=0.6):\n",
    "    data,sr=librosa.load(path,duration=duration,offset=offset)\n",
    "    aud=extract_features(data)\n",
    "    audio=np.array(aud)\n",
    "    \n",
    "    noised_audio=noise(data)\n",
    "    aud2=extract_features(noised_audio)\n",
    "    audio=np.vstack((audio,aud2))\n",
    "    \n",
    "    pitched_audio=pitch(data,sr)\n",
    "    aud3=extract_features(pitched_audio)\n",
    "    audio=np.vstack((audio,aud3))\n",
    "    \n",
    "    pitched_audio1=pitch(data,sr)\n",
    "    pitched_noised_audio=noise(pitched_audio1)\n",
    "    aud4=extract_features(pitched_noised_audio)\n",
    "    audio=np.vstack((audio,aud4))\n",
    "    \n",
    "    stretch_audio=stretch(data,sr)\n",
    "    aud5=extract_features(stretch_audio)\n",
    "    audio=np.vstack((audio,aud5))\n",
    "    \n",
    "    return audio"
   ]
  },
  {
   "cell_type": "code",
   "execution_count": 13,
   "metadata": {
    "ExecuteTime": {
     "end_time": "2024-03-01T17:28:36.629607Z",
     "start_time": "2024-03-01T17:28:36.625738Z"
    }
   },
   "outputs": [
    {
     "name": "stdout",
     "output_type": "stream",
     "text": [
      "Number of processors:  16\n"
     ]
    }
   ],
   "source": [
    "import multiprocessing as mp\n",
    "print(\"Number of processors: \", mp.cpu_count())"
   ]
  },
  {
   "cell_type": "markdown",
   "id": "e213bb27",
   "metadata": {},
   "source": [
    "###### We will use the joblib library to process multiple audio files in parallel using the process_feature function. The perfonmance of this library depends on the number of processors, in this example 16 are used. "
   ]
  },
  {
   "cell_type": "code",
   "execution_count": 14,
   "metadata": {
    "ExecuteTime": {
     "end_time": "2024-03-01T18:41:05.108801Z",
     "start_time": "2024-03-01T17:28:37.457799Z"
    }
   },
   "outputs": [
    {
     "name": "stdout",
     "output_type": "stream",
     "text": [
      "Time:  4347.641478800913\n"
     ]
    }
   ],
   "source": [
    "from joblib import Parallel, delayed\n",
    "import timeit\n",
    "from tqdm import tqdm\n",
    "start = timeit.default_timer()\n",
    "def process_feature(path, emotion):\n",
    "    features = get_features(path)\n",
    "    X = []\n",
    "    Y = []\n",
    "    for ele in features:\n",
    "        X.append(ele)\n",
    "        # appending emotion 3 times as we have made 3 augmentation techniques on each audio file.\n",
    "        Y.append(emotion)\n",
    "    return X, Y\n",
    "\n",
    "paths = data_path.Path\n",
    "emotions = data_path.Emotions\n",
    "\n",
    "# Run the loop in parallel\n",
    "results = Parallel(n_jobs=-1)(delayed(process_feature)(path, emotion) for (path, emotion) in zip(paths, emotions))\n",
    "\n",
    "# Collect the results\n",
    "X = []\n",
    "Y = []\n",
    "for result in results:\n",
    "    x, y = result\n",
    "    X.extend(x)\n",
    "    Y.extend(y)\n",
    "\n",
    "\n",
    "stop = timeit.default_timer()\n",
    "\n",
    "print('Time: ', stop - start)"
   ]
  },
  {
   "cell_type": "markdown",
   "id": "bf2c636f",
   "metadata": {},
   "source": [
    "###### It took 4347.64 seconds to proccess all the data, whereas, not using the joblib library it would have taken almost an hour on this server."
   ]
  },
  {
   "cell_type": "markdown",
   "id": "e5ea118d",
   "metadata": {},
   "source": [
    "## Saving features"
   ]
  },
  {
   "cell_type": "code",
   "execution_count": 15,
   "metadata": {
    "ExecuteTime": {
     "end_time": "2024-03-01T18:42:01.681458Z",
     "start_time": "2024-03-01T18:41:05.111947Z"
    }
   },
   "outputs": [
    {
     "data": {
      "text/html": [
       "<div>\n",
       "<style scoped>\n",
       "    .dataframe tbody tr th:only-of-type {\n",
       "        vertical-align: middle;\n",
       "    }\n",
       "\n",
       "    .dataframe tbody tr th {\n",
       "        vertical-align: top;\n",
       "    }\n",
       "\n",
       "    .dataframe thead th {\n",
       "        text-align: right;\n",
       "    }\n",
       "</style>\n",
       "<table border=\"1\" class=\"dataframe\">\n",
       "  <thead>\n",
       "    <tr style=\"text-align: right;\">\n",
       "      <th></th>\n",
       "      <th>0</th>\n",
       "      <th>1</th>\n",
       "      <th>2</th>\n",
       "      <th>3</th>\n",
       "      <th>4</th>\n",
       "      <th>5</th>\n",
       "      <th>6</th>\n",
       "      <th>7</th>\n",
       "      <th>8</th>\n",
       "      <th>9</th>\n",
       "      <th>...</th>\n",
       "      <th>2367</th>\n",
       "      <th>2368</th>\n",
       "      <th>2369</th>\n",
       "      <th>2370</th>\n",
       "      <th>2371</th>\n",
       "      <th>2372</th>\n",
       "      <th>2373</th>\n",
       "      <th>2374</th>\n",
       "      <th>2375</th>\n",
       "      <th>Emotions</th>\n",
       "    </tr>\n",
       "  </thead>\n",
       "  <tbody>\n",
       "    <tr>\n",
       "      <th>0</th>\n",
       "      <td>0.173340</td>\n",
       "      <td>0.324707</td>\n",
       "      <td>0.483398</td>\n",
       "      <td>0.507324</td>\n",
       "      <td>0.439941</td>\n",
       "      <td>0.346680</td>\n",
       "      <td>0.250488</td>\n",
       "      <td>0.230957</td>\n",
       "      <td>0.248535</td>\n",
       "      <td>0.245605</td>\n",
       "      <td>...</td>\n",
       "      <td>4.207337</td>\n",
       "      <td>3.875172</td>\n",
       "      <td>3.538487</td>\n",
       "      <td>3.201609</td>\n",
       "      <td>2.868634</td>\n",
       "      <td>2.543363</td>\n",
       "      <td>2.229210</td>\n",
       "      <td>1.929212</td>\n",
       "      <td>1.645933</td>\n",
       "      <td>angry</td>\n",
       "    </tr>\n",
       "    <tr>\n",
       "      <th>1</th>\n",
       "      <td>0.249023</td>\n",
       "      <td>0.373047</td>\n",
       "      <td>0.493652</td>\n",
       "      <td>0.498047</td>\n",
       "      <td>0.492188</td>\n",
       "      <td>0.500000</td>\n",
       "      <td>0.479492</td>\n",
       "      <td>0.465820</td>\n",
       "      <td>0.441406</td>\n",
       "      <td>0.394531</td>\n",
       "      <td>...</td>\n",
       "      <td>3.472936</td>\n",
       "      <td>2.730981</td>\n",
       "      <td>-0.498687</td>\n",
       "      <td>-3.251477</td>\n",
       "      <td>-3.788345</td>\n",
       "      <td>-2.782140</td>\n",
       "      <td>-0.832183</td>\n",
       "      <td>-6.640763</td>\n",
       "      <td>-0.530114</td>\n",
       "      <td>angry</td>\n",
       "    </tr>\n",
       "    <tr>\n",
       "      <th>2</th>\n",
       "      <td>0.093750</td>\n",
       "      <td>0.137695</td>\n",
       "      <td>0.179199</td>\n",
       "      <td>0.190918</td>\n",
       "      <td>0.199219</td>\n",
       "      <td>0.214844</td>\n",
       "      <td>0.231445</td>\n",
       "      <td>0.234375</td>\n",
       "      <td>0.234863</td>\n",
       "      <td>0.232422</td>\n",
       "      <td>...</td>\n",
       "      <td>2.755695</td>\n",
       "      <td>2.611968</td>\n",
       "      <td>2.465471</td>\n",
       "      <td>2.317832</td>\n",
       "      <td>2.170549</td>\n",
       "      <td>2.024962</td>\n",
       "      <td>1.882213</td>\n",
       "      <td>1.743268</td>\n",
       "      <td>1.608866</td>\n",
       "      <td>angry</td>\n",
       "    </tr>\n",
       "    <tr>\n",
       "      <th>3</th>\n",
       "      <td>0.247070</td>\n",
       "      <td>0.368164</td>\n",
       "      <td>0.492676</td>\n",
       "      <td>0.490723</td>\n",
       "      <td>0.485840</td>\n",
       "      <td>0.473145</td>\n",
       "      <td>0.453125</td>\n",
       "      <td>0.416016</td>\n",
       "      <td>0.388184</td>\n",
       "      <td>0.365234</td>\n",
       "      <td>...</td>\n",
       "      <td>-2.687025</td>\n",
       "      <td>-3.854253</td>\n",
       "      <td>0.648255</td>\n",
       "      <td>1.220369</td>\n",
       "      <td>2.550457</td>\n",
       "      <td>3.115511</td>\n",
       "      <td>-0.978896</td>\n",
       "      <td>2.143652</td>\n",
       "      <td>3.490360</td>\n",
       "      <td>angry</td>\n",
       "    </tr>\n",
       "    <tr>\n",
       "      <th>4</th>\n",
       "      <td>0.156738</td>\n",
       "      <td>0.217285</td>\n",
       "      <td>0.276855</td>\n",
       "      <td>0.244629</td>\n",
       "      <td>0.235352</td>\n",
       "      <td>0.236816</td>\n",
       "      <td>0.231445</td>\n",
       "      <td>0.226074</td>\n",
       "      <td>0.227051</td>\n",
       "      <td>0.236816</td>\n",
       "      <td>...</td>\n",
       "      <td>0.831039</td>\n",
       "      <td>0.758321</td>\n",
       "      <td>0.684298</td>\n",
       "      <td>0.609933</td>\n",
       "      <td>0.536178</td>\n",
       "      <td>0.463953</td>\n",
       "      <td>0.394069</td>\n",
       "      <td>0.327364</td>\n",
       "      <td>0.264539</td>\n",
       "      <td>surprise</td>\n",
       "    </tr>\n",
       "    <tr>\n",
       "      <th>...</th>\n",
       "      <td>...</td>\n",
       "      <td>...</td>\n",
       "      <td>...</td>\n",
       "      <td>...</td>\n",
       "      <td>...</td>\n",
       "      <td>...</td>\n",
       "      <td>...</td>\n",
       "      <td>...</td>\n",
       "      <td>...</td>\n",
       "      <td>...</td>\n",
       "      <td>...</td>\n",
       "      <td>...</td>\n",
       "      <td>...</td>\n",
       "      <td>...</td>\n",
       "      <td>...</td>\n",
       "      <td>...</td>\n",
       "      <td>...</td>\n",
       "      <td>...</td>\n",
       "      <td>...</td>\n",
       "      <td>...</td>\n",
       "      <td>...</td>\n",
       "    </tr>\n",
       "    <tr>\n",
       "      <th>95</th>\n",
       "      <td>0.261230</td>\n",
       "      <td>0.392090</td>\n",
       "      <td>0.520508</td>\n",
       "      <td>0.513672</td>\n",
       "      <td>0.515137</td>\n",
       "      <td>0.515625</td>\n",
       "      <td>0.506836</td>\n",
       "      <td>0.515625</td>\n",
       "      <td>0.508301</td>\n",
       "      <td>0.493652</td>\n",
       "      <td>...</td>\n",
       "      <td>2.432724</td>\n",
       "      <td>0.585190</td>\n",
       "      <td>1.926563</td>\n",
       "      <td>4.290768</td>\n",
       "      <td>2.594734</td>\n",
       "      <td>-0.578072</td>\n",
       "      <td>-6.517926</td>\n",
       "      <td>-0.091841</td>\n",
       "      <td>2.304176</td>\n",
       "      <td>happy</td>\n",
       "    </tr>\n",
       "    <tr>\n",
       "      <th>96</th>\n",
       "      <td>0.000000</td>\n",
       "      <td>0.000000</td>\n",
       "      <td>0.000000</td>\n",
       "      <td>0.000000</td>\n",
       "      <td>0.000000</td>\n",
       "      <td>0.000000</td>\n",
       "      <td>0.000000</td>\n",
       "      <td>0.000000</td>\n",
       "      <td>0.000000</td>\n",
       "      <td>0.000000</td>\n",
       "      <td>...</td>\n",
       "      <td>-1.792031</td>\n",
       "      <td>1.239079</td>\n",
       "      <td>2.757663</td>\n",
       "      <td>1.805864</td>\n",
       "      <td>-0.227590</td>\n",
       "      <td>-1.503050</td>\n",
       "      <td>-1.284721</td>\n",
       "      <td>-0.240708</td>\n",
       "      <td>0.446153</td>\n",
       "      <td>disgust</td>\n",
       "    </tr>\n",
       "    <tr>\n",
       "      <th>97</th>\n",
       "      <td>0.257812</td>\n",
       "      <td>0.375977</td>\n",
       "      <td>0.497559</td>\n",
       "      <td>0.494629</td>\n",
       "      <td>0.486816</td>\n",
       "      <td>0.481445</td>\n",
       "      <td>0.485840</td>\n",
       "      <td>0.479980</td>\n",
       "      <td>0.477051</td>\n",
       "      <td>0.494141</td>\n",
       "      <td>...</td>\n",
       "      <td>-4.259009</td>\n",
       "      <td>-6.065946</td>\n",
       "      <td>-8.012761</td>\n",
       "      <td>-4.009353</td>\n",
       "      <td>-0.164604</td>\n",
       "      <td>-0.195352</td>\n",
       "      <td>-1.820729</td>\n",
       "      <td>-4.512944</td>\n",
       "      <td>-4.894891</td>\n",
       "      <td>disgust</td>\n",
       "    </tr>\n",
       "    <tr>\n",
       "      <th>98</th>\n",
       "      <td>0.000000</td>\n",
       "      <td>0.000000</td>\n",
       "      <td>0.000000</td>\n",
       "      <td>0.000000</td>\n",
       "      <td>0.000000</td>\n",
       "      <td>0.000000</td>\n",
       "      <td>0.000000</td>\n",
       "      <td>0.000000</td>\n",
       "      <td>0.000000</td>\n",
       "      <td>0.000000</td>\n",
       "      <td>...</td>\n",
       "      <td>-1.392149</td>\n",
       "      <td>-0.179585</td>\n",
       "      <td>0.679380</td>\n",
       "      <td>0.530583</td>\n",
       "      <td>-0.411219</td>\n",
       "      <td>-1.347612</td>\n",
       "      <td>-1.605447</td>\n",
       "      <td>-1.167214</td>\n",
       "      <td>-0.619856</td>\n",
       "      <td>disgust</td>\n",
       "    </tr>\n",
       "    <tr>\n",
       "      <th>99</th>\n",
       "      <td>0.239746</td>\n",
       "      <td>0.366699</td>\n",
       "      <td>0.479492</td>\n",
       "      <td>0.482910</td>\n",
       "      <td>0.475098</td>\n",
       "      <td>0.465820</td>\n",
       "      <td>0.487305</td>\n",
       "      <td>0.497559</td>\n",
       "      <td>0.502930</td>\n",
       "      <td>0.507812</td>\n",
       "      <td>...</td>\n",
       "      <td>4.248960</td>\n",
       "      <td>-0.054315</td>\n",
       "      <td>-1.400456</td>\n",
       "      <td>-1.950993</td>\n",
       "      <td>2.383843</td>\n",
       "      <td>0.972567</td>\n",
       "      <td>-0.791403</td>\n",
       "      <td>2.055853</td>\n",
       "      <td>0.366512</td>\n",
       "      <td>disgust</td>\n",
       "    </tr>\n",
       "  </tbody>\n",
       "</table>\n",
       "<p>100 rows × 2377 columns</p>\n",
       "</div>"
      ],
      "text/plain": [
       "           0         1         2         3         4         5         6  \\\n",
       "0   0.173340  0.324707  0.483398  0.507324  0.439941  0.346680  0.250488   \n",
       "1   0.249023  0.373047  0.493652  0.498047  0.492188  0.500000  0.479492   \n",
       "2   0.093750  0.137695  0.179199  0.190918  0.199219  0.214844  0.231445   \n",
       "3   0.247070  0.368164  0.492676  0.490723  0.485840  0.473145  0.453125   \n",
       "4   0.156738  0.217285  0.276855  0.244629  0.235352  0.236816  0.231445   \n",
       "..       ...       ...       ...       ...       ...       ...       ...   \n",
       "95  0.261230  0.392090  0.520508  0.513672  0.515137  0.515625  0.506836   \n",
       "96  0.000000  0.000000  0.000000  0.000000  0.000000  0.000000  0.000000   \n",
       "97  0.257812  0.375977  0.497559  0.494629  0.486816  0.481445  0.485840   \n",
       "98  0.000000  0.000000  0.000000  0.000000  0.000000  0.000000  0.000000   \n",
       "99  0.239746  0.366699  0.479492  0.482910  0.475098  0.465820  0.487305   \n",
       "\n",
       "           7         8         9  ...      2367      2368      2369      2370  \\\n",
       "0   0.230957  0.248535  0.245605  ...  4.207337  3.875172  3.538487  3.201609   \n",
       "1   0.465820  0.441406  0.394531  ...  3.472936  2.730981 -0.498687 -3.251477   \n",
       "2   0.234375  0.234863  0.232422  ...  2.755695  2.611968  2.465471  2.317832   \n",
       "3   0.416016  0.388184  0.365234  ... -2.687025 -3.854253  0.648255  1.220369   \n",
       "4   0.226074  0.227051  0.236816  ...  0.831039  0.758321  0.684298  0.609933   \n",
       "..       ...       ...       ...  ...       ...       ...       ...       ...   \n",
       "95  0.515625  0.508301  0.493652  ...  2.432724  0.585190  1.926563  4.290768   \n",
       "96  0.000000  0.000000  0.000000  ... -1.792031  1.239079  2.757663  1.805864   \n",
       "97  0.479980  0.477051  0.494141  ... -4.259009 -6.065946 -8.012761 -4.009353   \n",
       "98  0.000000  0.000000  0.000000  ... -1.392149 -0.179585  0.679380  0.530583   \n",
       "99  0.497559  0.502930  0.507812  ...  4.248960 -0.054315 -1.400456 -1.950993   \n",
       "\n",
       "        2371      2372      2373      2374      2375  Emotions  \n",
       "0   2.868634  2.543363  2.229210  1.929212  1.645933     angry  \n",
       "1  -3.788345 -2.782140 -0.832183 -6.640763 -0.530114     angry  \n",
       "2   2.170549  2.024962  1.882213  1.743268  1.608866     angry  \n",
       "3   2.550457  3.115511 -0.978896  2.143652  3.490360     angry  \n",
       "4   0.536178  0.463953  0.394069  0.327364  0.264539  surprise  \n",
       "..       ...       ...       ...       ...       ...       ...  \n",
       "95  2.594734 -0.578072 -6.517926 -0.091841  2.304176     happy  \n",
       "96 -0.227590 -1.503050 -1.284721 -0.240708  0.446153   disgust  \n",
       "97 -0.164604 -0.195352 -1.820729 -4.512944 -4.894891   disgust  \n",
       "98 -0.411219 -1.347612 -1.605447 -1.167214 -0.619856   disgust  \n",
       "99  2.383843  0.972567 -0.791403  2.055853  0.366512   disgust  \n",
       "\n",
       "[100 rows x 2377 columns]"
      ]
     },
     "execution_count": 15,
     "metadata": {},
     "output_type": "execute_result"
    }
   ],
   "source": [
    "Emotions = pd.DataFrame(X)\n",
    "Emotions['Emotions'] = Y\n",
    "Emotions.head(100)"
   ]
  },
  {
   "cell_type": "code",
   "execution_count": 16,
   "metadata": {
    "ExecuteTime": {
     "end_time": "2024-03-01T18:46:16.258973Z",
     "start_time": "2024-03-01T18:42:01.684360Z"
    }
   },
   "outputs": [],
   "source": [
    "Emotions.to_csv('emotion.csv', index=False)"
   ]
  },
  {
   "cell_type": "code",
   "execution_count": 17,
   "metadata": {
    "ExecuteTime": {
     "end_time": "2024-03-01T18:46:16.269141Z",
     "start_time": "2024-03-01T18:46:16.263035Z"
    }
   },
   "outputs": [
    {
     "data": {
      "text/plain": [
       "(48644, 2377)"
      ]
     },
     "execution_count": 17,
     "metadata": {},
     "output_type": "execute_result"
    }
   ],
   "source": [
    "Emotions.shape"
   ]
  },
  {
   "cell_type": "markdown",
   "id": "60f09b3b",
   "metadata": {},
   "source": [
    "## Data preparation"
   ]
  },
  {
   "cell_type": "code",
   "execution_count": 18,
   "metadata": {
    "ExecuteTime": {
     "end_time": "2024-03-01T18:46:16.559309Z",
     "start_time": "2024-03-01T18:46:16.271122Z"
    }
   },
   "outputs": [
    {
     "name": "stdout",
     "output_type": "stream",
     "text": [
      "0           False\n",
      "1           False\n",
      "2           False\n",
      "3           False\n",
      "4           False\n",
      "            ...  \n",
      "2372         True\n",
      "2373         True\n",
      "2374         True\n",
      "2375         True\n",
      "Emotions    False\n",
      "Length: 2377, dtype: bool\n"
     ]
    }
   ],
   "source": [
    "#check if there is any invalid data\n",
    "print(Emotions.isna().any())"
   ]
  },
  {
   "cell_type": "code",
   "execution_count": 19,
   "metadata": {
    "ExecuteTime": {
     "end_time": "2024-03-01T18:46:17.544581Z",
     "start_time": "2024-03-01T18:46:16.561358Z"
    }
   },
   "outputs": [
    {
     "name": "stdout",
     "output_type": "stream",
     "text": [
      "0           False\n",
      "1           False\n",
      "2           False\n",
      "3           False\n",
      "4           False\n",
      "            ...  \n",
      "2372        False\n",
      "2373        False\n",
      "2374        False\n",
      "2375        False\n",
      "Emotions    False\n",
      "Length: 2377, dtype: bool\n"
     ]
    },
    {
     "data": {
      "text/plain": [
       "(48644, 2377)"
      ]
     },
     "execution_count": 19,
     "metadata": {},
     "output_type": "execute_result"
    }
   ],
   "source": [
    "#fill the invalid data with 0\n",
    "Emotions=Emotions.fillna(0)\n",
    "print(Emotions.isna().any())\n",
    "Emotions.shape"
   ]
  },
  {
   "cell_type": "code",
   "execution_count": 20,
   "metadata": {
    "ExecuteTime": {
     "end_time": "2024-03-01T18:46:17.945619Z",
     "start_time": "2024-03-01T18:46:17.546623Z"
    }
   },
   "outputs": [],
   "source": [
    "#taking all rows and all cols without last col for X which include features\n",
    "#taking last col for Y, which include the emotions\n",
    "X = Emotions.iloc[: ,:-1].values\n",
    "Y = Emotions['Emotions'].values"
   ]
  },
  {
   "cell_type": "code",
   "execution_count": 21,
   "metadata": {
    "ExecuteTime": {
     "end_time": "2024-03-01T18:46:17.954577Z",
     "start_time": "2024-03-01T18:46:17.949177Z"
    }
   },
   "outputs": [
    {
     "data": {
      "text/plain": [
       "array([[ 0.17333984,  0.32470703,  0.48339844, ...,  2.2292099 ,\n",
       "         1.92921209,  1.64593267],\n",
       "       [ 0.24902344,  0.37304688,  0.49365234, ..., -0.83218319,\n",
       "        -6.64076308, -0.530114  ],\n",
       "       [ 0.09375   ,  0.13769531,  0.17919922, ...,  1.88221335,\n",
       "         1.74326754,  1.60886598],\n",
       "       ...,\n",
       "       [ 0.02197266,  0.03027344,  0.04150391, ...,  1.89541394,\n",
       "         3.4948538 ,  7.15315669],\n",
       "       [ 0.02197266,  0.03515625,  0.04443359, ...,  0.34384984,\n",
       "         1.77898192,  3.38057899],\n",
       "       [ 0.02294922,  0.04296875,  0.05419922, ...,  4.25113559,\n",
       "         2.26402261,  0.09115696]])"
      ]
     },
     "execution_count": 21,
     "metadata": {},
     "output_type": "execute_result"
    }
   ],
   "source": [
    "X"
   ]
  },
  {
   "cell_type": "code",
   "execution_count": 22,
   "metadata": {
    "ExecuteTime": {
     "end_time": "2024-03-01T18:46:17.960716Z",
     "start_time": "2024-03-01T18:46:17.957021Z"
    }
   },
   "outputs": [
    {
     "data": {
      "text/plain": [
       "array(['angry', 'angry', 'angry', ..., 'angry', 'angry', 'angry'],\n",
       "      dtype=object)"
      ]
     },
     "execution_count": 22,
     "metadata": {},
     "output_type": "execute_result"
    }
   ],
   "source": [
    "Y"
   ]
  },
  {
   "cell_type": "code",
   "execution_count": 23,
   "metadata": {
    "ExecuteTime": {
     "end_time": "2024-03-01T18:46:17.989998Z",
     "start_time": "2024-03-01T18:46:17.962494Z"
    }
   },
   "outputs": [],
   "source": [
    "#As we can see, Y is a list of the emotions, we would need to encode all these values. \n",
    "from sklearn.preprocessing import StandardScaler, OneHotEncoder\n",
    "encoder = OneHotEncoder()\n",
    "Y = encoder.fit_transform(np.array(Y).reshape(-1,1)).toarray()"
   ]
  },
  {
   "cell_type": "code",
   "execution_count": 24,
   "metadata": {
    "ExecuteTime": {
     "end_time": "2024-03-01T18:46:17.996437Z",
     "start_time": "2024-03-01T18:46:17.991961Z"
    }
   },
   "outputs": [
    {
     "data": {
      "text/plain": [
       "array([[1., 0., 0., ..., 0., 0., 0.],\n",
       "       [1., 0., 0., ..., 0., 0., 0.],\n",
       "       [1., 0., 0., ..., 0., 0., 0.],\n",
       "       ...,\n",
       "       [1., 0., 0., ..., 0., 0., 0.],\n",
       "       [1., 0., 0., ..., 0., 0., 0.],\n",
       "       [1., 0., 0., ..., 0., 0., 0.]])"
      ]
     },
     "execution_count": 24,
     "metadata": {},
     "output_type": "execute_result"
    }
   ],
   "source": [
    "Y"
   ]
  },
  {
   "cell_type": "code",
   "execution_count": 25,
   "metadata": {
    "ExecuteTime": {
     "end_time": "2024-03-01T18:46:19.531252Z",
     "start_time": "2024-03-01T18:46:17.998239Z"
    }
   },
   "outputs": [
    {
     "data": {
      "text/plain": [
       "((38915, 2376), (38915, 7), (9729, 2376), (9729, 7))"
      ]
     },
     "execution_count": 25,
     "metadata": {},
     "output_type": "execute_result"
    }
   ],
   "source": [
    "from sklearn.model_selection import train_test_split\n",
    "\n",
    "x_train, x_test, y_train, y_test = train_test_split(X, Y, random_state=42,test_size=0.2, shuffle=True)\n",
    "x_train.shape, y_train.shape, x_test.shape, y_test.shape"
   ]
  },
  {
   "cell_type": "code",
   "execution_count": 26,
   "metadata": {
    "ExecuteTime": {
     "end_time": "2024-03-01T18:46:22.201083Z",
     "start_time": "2024-03-01T18:46:19.533204Z"
    }
   },
   "outputs": [
    {
     "data": {
      "text/plain": [
       "((38915, 2376), (38915, 7), (9729, 2376), (9729, 7))"
      ]
     },
     "execution_count": 26,
     "metadata": {},
     "output_type": "execute_result"
    }
   ],
   "source": [
    "# scaling our data with sklearn's Standard scaler\n",
    "scaler = StandardScaler()\n",
    "x_train = scaler.fit_transform(x_train)\n",
    "x_test = scaler.transform(x_test)\n",
    "x_train.shape, y_train.shape, x_test.shape, y_test.shape"
   ]
  },
  {
   "cell_type": "markdown",
   "id": "ee2d6e32",
   "metadata": {},
   "source": [
    "## Trainig a CNN model"
   ]
  },
  {
   "cell_type": "code",
   "execution_count": 27,
   "metadata": {
    "ExecuteTime": {
     "end_time": "2024-03-01T18:46:22.208482Z",
     "start_time": "2024-03-01T18:46:22.202996Z"
    }
   },
   "outputs": [
    {
     "data": {
      "text/plain": [
       "((38915, 2376, 1), (38915, 7), (9729, 2376, 1), (9729, 7))"
      ]
     },
     "execution_count": 27,
     "metadata": {},
     "output_type": "execute_result"
    }
   ],
   "source": [
    "#Reshape for CNN_LSTM MODEL\n",
    "x_traincnn =np.expand_dims(x_train, axis=2)\n",
    "x_testcnn= np.expand_dims(x_test, axis=2)\n",
    "x_traincnn.shape, y_train.shape, x_testcnn.shape, y_test.shape"
   ]
  },
  {
   "cell_type": "code",
   "execution_count": 28,
   "metadata": {
    "ExecuteTime": {
     "end_time": "2024-03-01T18:46:22.214221Z",
     "start_time": "2024-03-01T18:46:22.210276Z"
    }
   },
   "outputs": [],
   "source": [
    "from keras.callbacks import ModelCheckpoint, EarlyStopping,ReduceLROnPlateau\n",
    "early_stop=EarlyStopping(monitor='val_acc',mode='auto',patience=5,restore_best_weights=True)\n",
    "lr_reduction=ReduceLROnPlateau(monitor='val_acc',patience=3,verbose=1,factor=0.5,min_lr=0.00001)"
   ]
  },
  {
   "cell_type": "code",
   "execution_count": 29,
   "metadata": {
    "ExecuteTime": {
     "end_time": "2024-03-01T18:46:24.072917Z",
     "start_time": "2024-03-01T18:46:22.216084Z"
    }
   },
   "outputs": [
    {
     "name": "stdout",
     "output_type": "stream",
     "text": [
      "Model: \"sequential\"\n",
      "_________________________________________________________________\n",
      "Layer (type)                 Output Shape              Param #   \n",
      "=================================================================\n",
      "conv1d (Conv1D)              (None, 2376, 512)         3072      \n",
      "_________________________________________________________________\n",
      "batch_normalization (BatchNo (None, 2376, 512)         2048      \n",
      "_________________________________________________________________\n",
      "max_pooling1d (MaxPooling1D) (None, 1188, 512)         0         \n",
      "_________________________________________________________________\n",
      "conv1d_1 (Conv1D)            (None, 1188, 512)         1311232   \n",
      "_________________________________________________________________\n",
      "batch_normalization_1 (Batch (None, 1188, 512)         2048      \n",
      "_________________________________________________________________\n",
      "max_pooling1d_1 (MaxPooling1 (None, 594, 512)          0         \n",
      "_________________________________________________________________\n",
      "dropout (Dropout)            (None, 594, 512)          0         \n",
      "_________________________________________________________________\n",
      "conv1d_2 (Conv1D)            (None, 594, 256)          655616    \n",
      "_________________________________________________________________\n",
      "batch_normalization_2 (Batch (None, 594, 256)          1024      \n",
      "_________________________________________________________________\n",
      "max_pooling1d_2 (MaxPooling1 (None, 297, 256)          0         \n",
      "_________________________________________________________________\n",
      "conv1d_3 (Conv1D)            (None, 297, 256)          196864    \n",
      "_________________________________________________________________\n",
      "batch_normalization_3 (Batch (None, 297, 256)          1024      \n",
      "_________________________________________________________________\n",
      "max_pooling1d_3 (MaxPooling1 (None, 149, 256)          0         \n",
      "_________________________________________________________________\n",
      "dropout_1 (Dropout)          (None, 149, 256)          0         \n",
      "_________________________________________________________________\n",
      "conv1d_4 (Conv1D)            (None, 149, 128)          98432     \n",
      "_________________________________________________________________\n",
      "batch_normalization_4 (Batch (None, 149, 128)          512       \n",
      "_________________________________________________________________\n",
      "max_pooling1d_4 (MaxPooling1 (None, 75, 128)           0         \n",
      "_________________________________________________________________\n",
      "dropout_2 (Dropout)          (None, 75, 128)           0         \n",
      "_________________________________________________________________\n",
      "flatten (Flatten)            (None, 9600)              0         \n",
      "_________________________________________________________________\n",
      "dense (Dense)                (None, 512)               4915712   \n",
      "_________________________________________________________________\n",
      "batch_normalization_5 (Batch (None, 512)               2048      \n",
      "_________________________________________________________________\n",
      "dense_1 (Dense)              (None, 7)                 3591      \n",
      "=================================================================\n",
      "Total params: 7,193,223\n",
      "Trainable params: 7,188,871\n",
      "Non-trainable params: 4,352\n",
      "_________________________________________________________________\n"
     ]
    }
   ],
   "source": [
    "import tensorflow.keras.layers as L\n",
    "\n",
    "model = tf.keras.Sequential([\n",
    "    L.Conv1D(512,kernel_size=5, strides=1,padding='same', activation='relu',input_shape=(x_traincnn.shape[1],1)),\n",
    "    L.BatchNormalization(),\n",
    "    L.MaxPool1D(pool_size=5,strides=2,padding='same'),\n",
    "    \n",
    "    L.Conv1D(512,kernel_size=5,strides=1,padding='same',activation='relu'),\n",
    "    L.BatchNormalization(),\n",
    "    L.MaxPool1D(pool_size=5,strides=2,padding='same'),\n",
    "    Dropout(0.2),  # Add dropout layer after the second max pooling layer\n",
    "    \n",
    "    L.Conv1D(256,kernel_size=5,strides=1,padding='same',activation='relu'),\n",
    "    L.BatchNormalization(),\n",
    "    L.MaxPool1D(pool_size=5,strides=2,padding='same'),\n",
    "    \n",
    "    L.Conv1D(256,kernel_size=3,strides=1,padding='same',activation='relu'),\n",
    "    L.BatchNormalization(),\n",
    "    L.MaxPool1D(pool_size=5,strides=2,padding='same'),\n",
    "    Dropout(0.2),  # Add dropout layer after the fourth max pooling layer\n",
    "    \n",
    "    L.Conv1D(128,kernel_size=3,strides=1,padding='same',activation='relu'),\n",
    "    L.BatchNormalization(),\n",
    "    L.MaxPool1D(pool_size=3,strides=2,padding='same'),\n",
    "    Dropout(0.2),  # Add dropout layer after the fifth max pooling layer\n",
    "    \n",
    "    L.Flatten(),\n",
    "    L.Dense(512,activation='relu'),\n",
    "    L.BatchNormalization(),\n",
    "    L.Dense(7,activation='softmax')\n",
    "])\n",
    "model.compile(optimizer='adam',loss='categorical_crossentropy',metrics='accuracy')\n",
    "model.summary()"
   ]
  },
  {
   "cell_type": "code",
   "execution_count": 30,
   "metadata": {
    "ExecuteTime": {
     "end_time": "2024-03-01T21:02:04.593498Z",
     "start_time": "2024-03-01T18:46:24.074963Z"
    }
   },
   "outputs": [
    {
     "name": "stdout",
     "output_type": "stream",
     "text": [
      "Epoch 1/50\n",
      "  2/609 [..............................] - ETA: 1:21 - loss: 3.0688 - accuracy: 0.2188WARNING:tensorflow:Callbacks method `on_train_batch_end` is slow compared to the batch time (batch time: 0.0931s vs `on_train_batch_end` time: 0.1731s). Check your callbacks.\n",
      "609/609 [==============================] - ETA: 0s - loss: 1.4001 - accuracy: 0.4704WARNING:tensorflow:Early stopping conditioned on metric `val_acc` which is not available. Available metrics are: loss,accuracy,val_loss,val_accuracy\n",
      "WARNING:tensorflow:Reduce LR on plateau conditioned on metric `val_acc` which is not available. Available metrics are: loss,accuracy,val_loss,val_accuracy,lr\n",
      "609/609 [==============================] - 166s 272ms/step - loss: 1.4001 - accuracy: 0.4704 - val_loss: 1.2604 - val_accuracy: 0.5015\n",
      "Epoch 2/50\n",
      "608/609 [============================>.] - ETA: 0s - loss: 1.1019 - accuracy: 0.5743WARNING:tensorflow:Early stopping conditioned on metric `val_acc` which is not available. Available metrics are: loss,accuracy,val_loss,val_accuracy\n",
      "WARNING:tensorflow:Reduce LR on plateau conditioned on metric `val_acc` which is not available. Available metrics are: loss,accuracy,val_loss,val_accuracy,lr\n",
      "609/609 [==============================] - 164s 270ms/step - loss: 1.1019 - accuracy: 0.5743 - val_loss: 1.2359 - val_accuracy: 0.5307\n",
      "Epoch 3/50\n",
      "608/609 [============================>.] - ETA: 0s - loss: 1.0523 - accuracy: 0.5946WARNING:tensorflow:Early stopping conditioned on metric `val_acc` which is not available. Available metrics are: loss,accuracy,val_loss,val_accuracy\n",
      "WARNING:tensorflow:Reduce LR on plateau conditioned on metric `val_acc` which is not available. Available metrics are: loss,accuracy,val_loss,val_accuracy,lr\n",
      "609/609 [==============================] - 164s 269ms/step - loss: 1.0523 - accuracy: 0.5946 - val_loss: 0.9843 - val_accuracy: 0.6171\n",
      "Epoch 4/50\n",
      "608/609 [============================>.] - ETA: 0s - loss: 0.9001 - accuracy: 0.6572WARNING:tensorflow:Early stopping conditioned on metric `val_acc` which is not available. Available metrics are: loss,accuracy,val_loss,val_accuracy\n",
      "WARNING:tensorflow:Reduce LR on plateau conditioned on metric `val_acc` which is not available. Available metrics are: loss,accuracy,val_loss,val_accuracy,lr\n",
      "609/609 [==============================] - 164s 269ms/step - loss: 0.9002 - accuracy: 0.6572 - val_loss: 0.8923 - val_accuracy: 0.6538\n",
      "Epoch 5/50\n",
      "608/609 [============================>.] - ETA: 0s - loss: 0.7919 - accuracy: 0.7007WARNING:tensorflow:Early stopping conditioned on metric `val_acc` which is not available. Available metrics are: loss,accuracy,val_loss,val_accuracy\n",
      "WARNING:tensorflow:Reduce LR on plateau conditioned on metric `val_acc` which is not available. Available metrics are: loss,accuracy,val_loss,val_accuracy,lr\n",
      "609/609 [==============================] - 164s 269ms/step - loss: 0.7919 - accuracy: 0.7007 - val_loss: 1.0919 - val_accuracy: 0.5875\n",
      "Epoch 6/50\n",
      "608/609 [============================>.] - ETA: 0s - loss: 0.7598 - accuracy: 0.7130WARNING:tensorflow:Early stopping conditioned on metric `val_acc` which is not available. Available metrics are: loss,accuracy,val_loss,val_accuracy\n",
      "WARNING:tensorflow:Reduce LR on plateau conditioned on metric `val_acc` which is not available. Available metrics are: loss,accuracy,val_loss,val_accuracy,lr\n",
      "609/609 [==============================] - 164s 270ms/step - loss: 0.7598 - accuracy: 0.7130 - val_loss: 1.0676 - val_accuracy: 0.6113\n",
      "Epoch 7/50\n",
      "608/609 [============================>.] - ETA: 0s - loss: 0.6527 - accuracy: 0.7557WARNING:tensorflow:Early stopping conditioned on metric `val_acc` which is not available. Available metrics are: loss,accuracy,val_loss,val_accuracy\n",
      "WARNING:tensorflow:Reduce LR on plateau conditioned on metric `val_acc` which is not available. Available metrics are: loss,accuracy,val_loss,val_accuracy,lr\n",
      "609/609 [==============================] - 164s 269ms/step - loss: 0.6529 - accuracy: 0.7556 - val_loss: 0.6795 - val_accuracy: 0.7474\n",
      "Epoch 8/50\n",
      "608/609 [============================>.] - ETA: 0s - loss: 0.4799 - accuracy: 0.8247WARNING:tensorflow:Early stopping conditioned on metric `val_acc` which is not available. Available metrics are: loss,accuracy,val_loss,val_accuracy\n",
      "WARNING:tensorflow:Reduce LR on plateau conditioned on metric `val_acc` which is not available. Available metrics are: loss,accuracy,val_loss,val_accuracy,lr\n",
      "609/609 [==============================] - 148s 242ms/step - loss: 0.4801 - accuracy: 0.8246 - val_loss: 0.6074 - val_accuracy: 0.7739\n",
      "Epoch 9/50\n",
      "608/609 [============================>.] - ETA: 0s - loss: 0.3715 - accuracy: 0.8683WARNING:tensorflow:Early stopping conditioned on metric `val_acc` which is not available. Available metrics are: loss,accuracy,val_loss,val_accuracy\n",
      "WARNING:tensorflow:Reduce LR on plateau conditioned on metric `val_acc` which is not available. Available metrics are: loss,accuracy,val_loss,val_accuracy,lr\n",
      "609/609 [==============================] - 162s 267ms/step - loss: 0.3716 - accuracy: 0.8682 - val_loss: 0.4290 - val_accuracy: 0.8454\n",
      "Epoch 10/50\n",
      "608/609 [============================>.] - ETA: 0s - loss: 0.2902 - accuracy: 0.8977WARNING:tensorflow:Early stopping conditioned on metric `val_acc` which is not available. Available metrics are: loss,accuracy,val_loss,val_accuracy\n",
      "WARNING:tensorflow:Reduce LR on plateau conditioned on metric `val_acc` which is not available. Available metrics are: loss,accuracy,val_loss,val_accuracy,lr\n",
      "609/609 [==============================] - 164s 270ms/step - loss: 0.2902 - accuracy: 0.8978 - val_loss: 0.4292 - val_accuracy: 0.8450\n",
      "Epoch 11/50\n",
      "608/609 [============================>.] - ETA: 0s - loss: 0.1996 - accuracy: 0.9307WARNING:tensorflow:Early stopping conditioned on metric `val_acc` which is not available. Available metrics are: loss,accuracy,val_loss,val_accuracy\n",
      "WARNING:tensorflow:Reduce LR on plateau conditioned on metric `val_acc` which is not available. Available metrics are: loss,accuracy,val_loss,val_accuracy,lr\n",
      "609/609 [==============================] - 164s 270ms/step - loss: 0.1998 - accuracy: 0.9306 - val_loss: 0.3810 - val_accuracy: 0.8667\n",
      "Epoch 12/50\n",
      "608/609 [============================>.] - ETA: 0s - loss: 0.1835 - accuracy: 0.9382WARNING:tensorflow:Early stopping conditioned on metric `val_acc` which is not available. Available metrics are: loss,accuracy,val_loss,val_accuracy\n",
      "WARNING:tensorflow:Reduce LR on plateau conditioned on metric `val_acc` which is not available. Available metrics are: loss,accuracy,val_loss,val_accuracy,lr\n",
      "609/609 [==============================] - 164s 269ms/step - loss: 0.1837 - accuracy: 0.9382 - val_loss: 0.3928 - val_accuracy: 0.8649\n",
      "Epoch 13/50\n",
      "608/609 [============================>.] - ETA: 0s - loss: 0.1511 - accuracy: 0.9481WARNING:tensorflow:Early stopping conditioned on metric `val_acc` which is not available. Available metrics are: loss,accuracy,val_loss,val_accuracy\n",
      "WARNING:tensorflow:Reduce LR on plateau conditioned on metric `val_acc` which is not available. Available metrics are: loss,accuracy,val_loss,val_accuracy,lr\n",
      "609/609 [==============================] - 164s 269ms/step - loss: 0.1512 - accuracy: 0.9480 - val_loss: 0.3151 - val_accuracy: 0.8904\n",
      "Epoch 14/50\n",
      "608/609 [============================>.] - ETA: 0s - loss: 0.1248 - accuracy: 0.9577WARNING:tensorflow:Early stopping conditioned on metric `val_acc` which is not available. Available metrics are: loss,accuracy,val_loss,val_accuracy\n",
      "WARNING:tensorflow:Reduce LR on plateau conditioned on metric `val_acc` which is not available. Available metrics are: loss,accuracy,val_loss,val_accuracy,lr\n",
      "609/609 [==============================] - 164s 269ms/step - loss: 0.1251 - accuracy: 0.9577 - val_loss: 1.0619 - val_accuracy: 0.7365\n",
      "Epoch 15/50\n",
      "608/609 [============================>.] - ETA: 0s - loss: 0.1902 - accuracy: 0.9350WARNING:tensorflow:Early stopping conditioned on metric `val_acc` which is not available. Available metrics are: loss,accuracy,val_loss,val_accuracy\n",
      "WARNING:tensorflow:Reduce LR on plateau conditioned on metric `val_acc` which is not available. Available metrics are: loss,accuracy,val_loss,val_accuracy,lr\n",
      "609/609 [==============================] - 164s 270ms/step - loss: 0.1904 - accuracy: 0.9350 - val_loss: 0.2028 - val_accuracy: 0.9319\n"
     ]
    },
    {
     "name": "stdout",
     "output_type": "stream",
     "text": [
      "Epoch 16/50\n",
      "608/609 [============================>.] - ETA: 0s - loss: 0.0803 - accuracy: 0.9744WARNING:tensorflow:Early stopping conditioned on metric `val_acc` which is not available. Available metrics are: loss,accuracy,val_loss,val_accuracy\n",
      "WARNING:tensorflow:Reduce LR on plateau conditioned on metric `val_acc` which is not available. Available metrics are: loss,accuracy,val_loss,val_accuracy,lr\n",
      "609/609 [==============================] - 164s 269ms/step - loss: 0.0805 - accuracy: 0.9744 - val_loss: 0.1859 - val_accuracy: 0.9401\n",
      "Epoch 17/50\n",
      "608/609 [============================>.] - ETA: 0s - loss: 0.0915 - accuracy: 0.9700WARNING:tensorflow:Early stopping conditioned on metric `val_acc` which is not available. Available metrics are: loss,accuracy,val_loss,val_accuracy\n",
      "WARNING:tensorflow:Reduce LR on plateau conditioned on metric `val_acc` which is not available. Available metrics are: loss,accuracy,val_loss,val_accuracy,lr\n",
      "609/609 [==============================] - 164s 269ms/step - loss: 0.0919 - accuracy: 0.9699 - val_loss: 0.1845 - val_accuracy: 0.9377\n",
      "Epoch 18/50\n",
      "608/609 [============================>.] - ETA: 0s - loss: 0.1174 - accuracy: 0.9599WARNING:tensorflow:Early stopping conditioned on metric `val_acc` which is not available. Available metrics are: loss,accuracy,val_loss,val_accuracy\n",
      "WARNING:tensorflow:Reduce LR on plateau conditioned on metric `val_acc` which is not available. Available metrics are: loss,accuracy,val_loss,val_accuracy,lr\n",
      "609/609 [==============================] - 164s 270ms/step - loss: 0.1175 - accuracy: 0.9599 - val_loss: 0.2811 - val_accuracy: 0.9074\n",
      "Epoch 19/50\n",
      "608/609 [============================>.] - ETA: 0s - loss: 0.0568 - accuracy: 0.9818WARNING:tensorflow:Early stopping conditioned on metric `val_acc` which is not available. Available metrics are: loss,accuracy,val_loss,val_accuracy\n",
      "WARNING:tensorflow:Reduce LR on plateau conditioned on metric `val_acc` which is not available. Available metrics are: loss,accuracy,val_loss,val_accuracy,lr\n",
      "609/609 [==============================] - 148s 242ms/step - loss: 0.0569 - accuracy: 0.9818 - val_loss: 0.1722 - val_accuracy: 0.9471\n",
      "Epoch 20/50\n",
      "608/609 [============================>.] - ETA: 0s - loss: 0.0773 - accuracy: 0.9741WARNING:tensorflow:Early stopping conditioned on metric `val_acc` which is not available. Available metrics are: loss,accuracy,val_loss,val_accuracy\n",
      "WARNING:tensorflow:Reduce LR on plateau conditioned on metric `val_acc` which is not available. Available metrics are: loss,accuracy,val_loss,val_accuracy,lr\n",
      "609/609 [==============================] - 164s 270ms/step - loss: 0.0775 - accuracy: 0.9741 - val_loss: 0.2143 - val_accuracy: 0.9314\n",
      "Epoch 21/50\n",
      "608/609 [============================>.] - ETA: 0s - loss: 0.0860 - accuracy: 0.9703WARNING:tensorflow:Early stopping conditioned on metric `val_acc` which is not available. Available metrics are: loss,accuracy,val_loss,val_accuracy\n",
      "WARNING:tensorflow:Reduce LR on plateau conditioned on metric `val_acc` which is not available. Available metrics are: loss,accuracy,val_loss,val_accuracy,lr\n",
      "609/609 [==============================] - 164s 269ms/step - loss: 0.0860 - accuracy: 0.9703 - val_loss: 0.1554 - val_accuracy: 0.9488\n",
      "Epoch 22/50\n",
      "608/609 [============================>.] - ETA: 0s - loss: 0.0399 - accuracy: 0.9873WARNING:tensorflow:Early stopping conditioned on metric `val_acc` which is not available. Available metrics are: loss,accuracy,val_loss,val_accuracy\n",
      "WARNING:tensorflow:Reduce LR on plateau conditioned on metric `val_acc` which is not available. Available metrics are: loss,accuracy,val_loss,val_accuracy,lr\n",
      "609/609 [==============================] - 164s 269ms/step - loss: 0.0399 - accuracy: 0.9873 - val_loss: 0.1588 - val_accuracy: 0.9524\n",
      "Epoch 23/50\n",
      "608/609 [============================>.] - ETA: 0s - loss: 0.0516 - accuracy: 0.9828WARNING:tensorflow:Early stopping conditioned on metric `val_acc` which is not available. Available metrics are: loss,accuracy,val_loss,val_accuracy\n",
      "WARNING:tensorflow:Reduce LR on plateau conditioned on metric `val_acc` which is not available. Available metrics are: loss,accuracy,val_loss,val_accuracy,lr\n",
      "609/609 [==============================] - 164s 270ms/step - loss: 0.0516 - accuracy: 0.9828 - val_loss: 0.1624 - val_accuracy: 0.9514\n",
      "Epoch 24/50\n",
      "608/609 [============================>.] - ETA: 0s - loss: 0.0526 - accuracy: 0.9820WARNING:tensorflow:Early stopping conditioned on metric `val_acc` which is not available. Available metrics are: loss,accuracy,val_loss,val_accuracy\n",
      "WARNING:tensorflow:Reduce LR on plateau conditioned on metric `val_acc` which is not available. Available metrics are: loss,accuracy,val_loss,val_accuracy,lr\n",
      "609/609 [==============================] - 164s 270ms/step - loss: 0.0528 - accuracy: 0.9819 - val_loss: 0.2404 - val_accuracy: 0.9311\n",
      "Epoch 25/50\n",
      "608/609 [============================>.] - ETA: 0s - loss: 0.0602 - accuracy: 0.9793WARNING:tensorflow:Early stopping conditioned on metric `val_acc` which is not available. Available metrics are: loss,accuracy,val_loss,val_accuracy\n",
      "WARNING:tensorflow:Reduce LR on plateau conditioned on metric `val_acc` which is not available. Available metrics are: loss,accuracy,val_loss,val_accuracy,lr\n",
      "609/609 [==============================] - 164s 269ms/step - loss: 0.0604 - accuracy: 0.9793 - val_loss: 0.1994 - val_accuracy: 0.9375\n",
      "Epoch 26/50\n",
      "608/609 [============================>.] - ETA: 0s - loss: 0.0685 - accuracy: 0.9761WARNING:tensorflow:Early stopping conditioned on metric `val_acc` which is not available. Available metrics are: loss,accuracy,val_loss,val_accuracy\n",
      "WARNING:tensorflow:Reduce LR on plateau conditioned on metric `val_acc` which is not available. Available metrics are: loss,accuracy,val_loss,val_accuracy,lr\n",
      "609/609 [==============================] - 164s 269ms/step - loss: 0.0687 - accuracy: 0.9761 - val_loss: 0.1723 - val_accuracy: 0.9478\n",
      "Epoch 27/50\n",
      "608/609 [============================>.] - ETA: 0s - loss: 0.0842 - accuracy: 0.9722WARNING:tensorflow:Early stopping conditioned on metric `val_acc` which is not available. Available metrics are: loss,accuracy,val_loss,val_accuracy\n",
      "WARNING:tensorflow:Reduce LR on plateau conditioned on metric `val_acc` which is not available. Available metrics are: loss,accuracy,val_loss,val_accuracy,lr\n",
      "609/609 [==============================] - 164s 269ms/step - loss: 0.0842 - accuracy: 0.9722 - val_loss: 0.2817 - val_accuracy: 0.9127\n",
      "Epoch 28/50\n",
      "608/609 [============================>.] - ETA: 0s - loss: 0.0390 - accuracy: 0.9867WARNING:tensorflow:Early stopping conditioned on metric `val_acc` which is not available. Available metrics are: loss,accuracy,val_loss,val_accuracy\n",
      "WARNING:tensorflow:Reduce LR on plateau conditioned on metric `val_acc` which is not available. Available metrics are: loss,accuracy,val_loss,val_accuracy,lr\n",
      "609/609 [==============================] - 164s 270ms/step - loss: 0.0392 - accuracy: 0.9866 - val_loss: 0.1481 - val_accuracy: 0.9554\n",
      "Epoch 29/50\n",
      "608/609 [============================>.] - ETA: 0s - loss: 0.0561 - accuracy: 0.9812WARNING:tensorflow:Early stopping conditioned on metric `val_acc` which is not available. Available metrics are: loss,accuracy,val_loss,val_accuracy\n",
      "WARNING:tensorflow:Reduce LR on plateau conditioned on metric `val_acc` which is not available. Available metrics are: loss,accuracy,val_loss,val_accuracy,lr\n",
      "609/609 [==============================] - 156s 256ms/step - loss: 0.0562 - accuracy: 0.9812 - val_loss: 0.1362 - val_accuracy: 0.9581\n",
      "Epoch 30/50\n",
      "608/609 [============================>.] - ETA: 0s - loss: 0.0373 - accuracy: 0.9877WARNING:tensorflow:Early stopping conditioned on metric `val_acc` which is not available. Available metrics are: loss,accuracy,val_loss,val_accuracy\n",
      "WARNING:tensorflow:Reduce LR on plateau conditioned on metric `val_acc` which is not available. Available metrics are: loss,accuracy,val_loss,val_accuracy,lr\n",
      "609/609 [==============================] - 164s 269ms/step - loss: 0.0375 - accuracy: 0.9876 - val_loss: 0.1377 - val_accuracy: 0.9619\n",
      "Epoch 31/50\n",
      "608/609 [============================>.] - ETA: 0s - loss: 0.0467 - accuracy: 0.9842WARNING:tensorflow:Early stopping conditioned on metric `val_acc` which is not available. Available metrics are: loss,accuracy,val_loss,val_accuracy\n"
     ]
    },
    {
     "name": "stdout",
     "output_type": "stream",
     "text": [
      "WARNING:tensorflow:Reduce LR on plateau conditioned on metric `val_acc` which is not available. Available metrics are: loss,accuracy,val_loss,val_accuracy,lr\n",
      "609/609 [==============================] - 164s 269ms/step - loss: 0.0468 - accuracy: 0.9842 - val_loss: 0.1511 - val_accuracy: 0.9551\n",
      "Epoch 32/50\n",
      "608/609 [============================>.] - ETA: 0s - loss: 0.0614 - accuracy: 0.9794WARNING:tensorflow:Early stopping conditioned on metric `val_acc` which is not available. Available metrics are: loss,accuracy,val_loss,val_accuracy\n",
      "WARNING:tensorflow:Reduce LR on plateau conditioned on metric `val_acc` which is not available. Available metrics are: loss,accuracy,val_loss,val_accuracy,lr\n",
      "609/609 [==============================] - 164s 270ms/step - loss: 0.0614 - accuracy: 0.9794 - val_loss: 0.1494 - val_accuracy: 0.9544\n",
      "Epoch 33/50\n",
      "608/609 [============================>.] - ETA: 0s - loss: 0.0370 - accuracy: 0.9881WARNING:tensorflow:Early stopping conditioned on metric `val_acc` which is not available. Available metrics are: loss,accuracy,val_loss,val_accuracy\n",
      "WARNING:tensorflow:Reduce LR on plateau conditioned on metric `val_acc` which is not available. Available metrics are: loss,accuracy,val_loss,val_accuracy,lr\n",
      "609/609 [==============================] - 164s 270ms/step - loss: 0.0370 - accuracy: 0.9881 - val_loss: 0.1233 - val_accuracy: 0.9627\n",
      "Epoch 34/50\n",
      "608/609 [============================>.] - ETA: 0s - loss: 0.0238 - accuracy: 0.9923WARNING:tensorflow:Early stopping conditioned on metric `val_acc` which is not available. Available metrics are: loss,accuracy,val_loss,val_accuracy\n",
      "WARNING:tensorflow:Reduce LR on plateau conditioned on metric `val_acc` which is not available. Available metrics are: loss,accuracy,val_loss,val_accuracy,lr\n",
      "609/609 [==============================] - 164s 270ms/step - loss: 0.0241 - accuracy: 0.9922 - val_loss: 0.1165 - val_accuracy: 0.9656\n",
      "Epoch 35/50\n",
      "608/609 [============================>.] - ETA: 0s - loss: 0.0360 - accuracy: 0.9880WARNING:tensorflow:Early stopping conditioned on metric `val_acc` which is not available. Available metrics are: loss,accuracy,val_loss,val_accuracy\n",
      "WARNING:tensorflow:Reduce LR on plateau conditioned on metric `val_acc` which is not available. Available metrics are: loss,accuracy,val_loss,val_accuracy,lr\n",
      "609/609 [==============================] - 164s 269ms/step - loss: 0.0360 - accuracy: 0.9880 - val_loss: 0.1232 - val_accuracy: 0.9642\n",
      "Epoch 36/50\n",
      "608/609 [============================>.] - ETA: 0s - loss: 0.0345 - accuracy: 0.9890WARNING:tensorflow:Early stopping conditioned on metric `val_acc` which is not available. Available metrics are: loss,accuracy,val_loss,val_accuracy\n",
      "WARNING:tensorflow:Reduce LR on plateau conditioned on metric `val_acc` which is not available. Available metrics are: loss,accuracy,val_loss,val_accuracy,lr\n",
      "609/609 [==============================] - 164s 269ms/step - loss: 0.0345 - accuracy: 0.9890 - val_loss: 0.1223 - val_accuracy: 0.9660\n",
      "Epoch 37/50\n",
      "608/609 [============================>.] - ETA: 0s - loss: 0.0283 - accuracy: 0.9906WARNING:tensorflow:Early stopping conditioned on metric `val_acc` which is not available. Available metrics are: loss,accuracy,val_loss,val_accuracy\n",
      "WARNING:tensorflow:Reduce LR on plateau conditioned on metric `val_acc` which is not available. Available metrics are: loss,accuracy,val_loss,val_accuracy,lr\n",
      "609/609 [==============================] - 164s 269ms/step - loss: 0.0283 - accuracy: 0.9906 - val_loss: 0.1489 - val_accuracy: 0.9586\n",
      "Epoch 38/50\n",
      "608/609 [============================>.] - ETA: 0s - loss: 0.0352 - accuracy: 0.9885WARNING:tensorflow:Early stopping conditioned on metric `val_acc` which is not available. Available metrics are: loss,accuracy,val_loss,val_accuracy\n",
      "WARNING:tensorflow:Reduce LR on plateau conditioned on metric `val_acc` which is not available. Available metrics are: loss,accuracy,val_loss,val_accuracy,lr\n",
      "609/609 [==============================] - 165s 270ms/step - loss: 0.0355 - accuracy: 0.9885 - val_loss: 0.1540 - val_accuracy: 0.9584\n",
      "Epoch 39/50\n",
      "608/609 [============================>.] - ETA: 0s - loss: 0.0376 - accuracy: 0.9877WARNING:tensorflow:Early stopping conditioned on metric `val_acc` which is not available. Available metrics are: loss,accuracy,val_loss,val_accuracy\n",
      "WARNING:tensorflow:Reduce LR on plateau conditioned on metric `val_acc` which is not available. Available metrics are: loss,accuracy,val_loss,val_accuracy,lr\n",
      "609/609 [==============================] - 141s 231ms/step - loss: 0.0377 - accuracy: 0.9877 - val_loss: 0.2094 - val_accuracy: 0.9435\n",
      "Epoch 40/50\n",
      "608/609 [============================>.] - ETA: 0s - loss: 0.0379 - accuracy: 0.9873WARNING:tensorflow:Early stopping conditioned on metric `val_acc` which is not available. Available metrics are: loss,accuracy,val_loss,val_accuracy\n",
      "WARNING:tensorflow:Reduce LR on plateau conditioned on metric `val_acc` which is not available. Available metrics are: loss,accuracy,val_loss,val_accuracy,lr\n",
      "609/609 [==============================] - 164s 269ms/step - loss: 0.0381 - accuracy: 0.9872 - val_loss: 0.1947 - val_accuracy: 0.9448\n",
      "Epoch 41/50\n",
      "608/609 [============================>.] - ETA: 0s - loss: 0.0384 - accuracy: 0.9878WARNING:tensorflow:Early stopping conditioned on metric `val_acc` which is not available. Available metrics are: loss,accuracy,val_loss,val_accuracy\n",
      "WARNING:tensorflow:Reduce LR on plateau conditioned on metric `val_acc` which is not available. Available metrics are: loss,accuracy,val_loss,val_accuracy,lr\n",
      "609/609 [==============================] - 164s 269ms/step - loss: 0.0385 - accuracy: 0.9877 - val_loss: 0.1280 - val_accuracy: 0.9644\n",
      "Epoch 42/50\n",
      "608/609 [============================>.] - ETA: 0s - loss: 0.0296 - accuracy: 0.9899WARNING:tensorflow:Early stopping conditioned on metric `val_acc` which is not available. Available metrics are: loss,accuracy,val_loss,val_accuracy\n",
      "WARNING:tensorflow:Reduce LR on plateau conditioned on metric `val_acc` which is not available. Available metrics are: loss,accuracy,val_loss,val_accuracy,lr\n",
      "609/609 [==============================] - 164s 270ms/step - loss: 0.0297 - accuracy: 0.9899 - val_loss: 0.1267 - val_accuracy: 0.9641\n",
      "Epoch 43/50\n",
      "608/609 [============================>.] - ETA: 0s - loss: 0.0233 - accuracy: 0.9920WARNING:tensorflow:Early stopping conditioned on metric `val_acc` which is not available. Available metrics are: loss,accuracy,val_loss,val_accuracy\n",
      "WARNING:tensorflow:Reduce LR on plateau conditioned on metric `val_acc` which is not available. Available metrics are: loss,accuracy,val_loss,val_accuracy,lr\n",
      "609/609 [==============================] - 164s 270ms/step - loss: 0.0233 - accuracy: 0.9920 - val_loss: 0.1557 - val_accuracy: 0.9533\n",
      "Epoch 44/50\n",
      "608/609 [============================>.] - ETA: 0s - loss: 0.0178 - accuracy: 0.9947WARNING:tensorflow:Early stopping conditioned on metric `val_acc` which is not available. Available metrics are: loss,accuracy,val_loss,val_accuracy\n",
      "WARNING:tensorflow:Reduce LR on plateau conditioned on metric `val_acc` which is not available. Available metrics are: loss,accuracy,val_loss,val_accuracy,lr\n",
      "609/609 [==============================] - 164s 270ms/step - loss: 0.0179 - accuracy: 0.9947 - val_loss: 0.1397 - val_accuracy: 0.9623\n",
      "Epoch 45/50\n",
      "608/609 [============================>.] - ETA: 0s - loss: 0.0275 - accuracy: 0.9908WARNING:tensorflow:Early stopping conditioned on metric `val_acc` which is not available. Available metrics are: loss,accuracy,val_loss,val_accuracy\n",
      "WARNING:tensorflow:Reduce LR on plateau conditioned on metric `val_acc` which is not available. Available metrics are: loss,accuracy,val_loss,val_accuracy,lr\n",
      "609/609 [==============================] - 164s 269ms/step - loss: 0.0276 - accuracy: 0.9908 - val_loss: 0.1257 - val_accuracy: 0.9655\n",
      "Epoch 46/50\n",
      "608/609 [============================>.] - ETA: 0s - loss: 0.0341 - accuracy: 0.9893WARNING:tensorflow:Early stopping conditioned on metric `val_acc` which is not available. Available metrics are: loss,accuracy,val_loss,val_accuracy\n",
      "WARNING:tensorflow:Reduce LR on plateau conditioned on metric `val_acc` which is not available. Available metrics are: loss,accuracy,val_loss,val_accuracy,lr\n"
     ]
    },
    {
     "name": "stdout",
     "output_type": "stream",
     "text": [
      "609/609 [==============================] - 165s 270ms/step - loss: 0.0341 - accuracy: 0.9893 - val_loss: 0.1530 - val_accuracy: 0.9609\n",
      "Epoch 47/50\n",
      "608/609 [============================>.] - ETA: 0s - loss: 0.0462 - accuracy: 0.9858WARNING:tensorflow:Early stopping conditioned on metric `val_acc` which is not available. Available metrics are: loss,accuracy,val_loss,val_accuracy\n",
      "WARNING:tensorflow:Reduce LR on plateau conditioned on metric `val_acc` which is not available. Available metrics are: loss,accuracy,val_loss,val_accuracy,lr\n",
      "609/609 [==============================] - 165s 270ms/step - loss: 0.0464 - accuracy: 0.9858 - val_loss: 0.1194 - val_accuracy: 0.9689\n",
      "Epoch 48/50\n",
      "608/609 [============================>.] - ETA: 0s - loss: 0.0428 - accuracy: 0.9865WARNING:tensorflow:Early stopping conditioned on metric `val_acc` which is not available. Available metrics are: loss,accuracy,val_loss,val_accuracy\n",
      "WARNING:tensorflow:Reduce LR on plateau conditioned on metric `val_acc` which is not available. Available metrics are: loss,accuracy,val_loss,val_accuracy,lr\n",
      "609/609 [==============================] - 164s 269ms/step - loss: 0.0428 - accuracy: 0.9865 - val_loss: 0.1267 - val_accuracy: 0.9666\n",
      "Epoch 49/50\n",
      "608/609 [============================>.] - ETA: 0s - loss: 0.0175 - accuracy: 0.9944WARNING:tensorflow:Early stopping conditioned on metric `val_acc` which is not available. Available metrics are: loss,accuracy,val_loss,val_accuracy\n",
      "WARNING:tensorflow:Reduce LR on plateau conditioned on metric `val_acc` which is not available. Available metrics are: loss,accuracy,val_loss,val_accuracy,lr\n",
      "609/609 [==============================] - 146s 239ms/step - loss: 0.0176 - accuracy: 0.9944 - val_loss: 0.1062 - val_accuracy: 0.9717\n",
      "Epoch 50/50\n",
      "608/609 [============================>.] - ETA: 0s - loss: 0.0167 - accuracy: 0.9943WARNING:tensorflow:Early stopping conditioned on metric `val_acc` which is not available. Available metrics are: loss,accuracy,val_loss,val_accuracy\n",
      "WARNING:tensorflow:Reduce LR on plateau conditioned on metric `val_acc` which is not available. Available metrics are: loss,accuracy,val_loss,val_accuracy,lr\n",
      "609/609 [==============================] - 165s 270ms/step - loss: 0.0167 - accuracy: 0.9943 - val_loss: 0.1311 - val_accuracy: 0.9667\n"
     ]
    }
   ],
   "source": [
    "history=model.fit(x_traincnn, y_train, epochs=50, validation_data=(x_testcnn, y_test), batch_size=64,callbacks=[early_stop,lr_reduction])"
   ]
  },
  {
   "cell_type": "code",
   "execution_count": 31,
   "metadata": {
    "ExecuteTime": {
     "end_time": "2024-03-01T21:02:18.575254Z",
     "start_time": "2024-03-01T21:02:04.596990Z"
    }
   },
   "outputs": [
    {
     "name": "stdout",
     "output_type": "stream",
     "text": [
      "305/305 [==============================] - 13s 41ms/step - loss: 0.1311 - accuracy: 0.9667\n",
      "Accuracy of our model on test data :  96.66975140571594 %\n"
     ]
    },
    {
     "data": {
      "image/png": "[encoded data removed]",
      "text/plain": [
       "<Figure size 1440x432 with 2 Axes>"
      ]
     },
     "metadata": {
      "needs_background": "light"
     },
     "output_type": "display_data"
    }
   ],
   "source": [
    "print(\"Accuracy of our model on test data : \" , model.evaluate(x_testcnn,y_test)[1]*100 , \"%\")\n",
    "\n",
    "epochs = [i for i in range(50)]\n",
    "fig , ax = plt.subplots(1,2)\n",
    "train_acc = history.history['accuracy']\n",
    "train_loss = history.history['loss']\n",
    "test_acc = history.history['val_accuracy']\n",
    "test_loss = history.history['val_loss']\n",
    "\n",
    "fig.set_size_inches(20,6)\n",
    "ax[0].plot(epochs , train_loss , label = 'Training Loss')\n",
    "ax[0].plot(epochs , test_loss , label = 'Testing Loss')\n",
    "ax[0].set_title('Training & Testing Loss')\n",
    "ax[0].legend()\n",
    "ax[0].set_xlabel(\"Epochs\")\n",
    "\n",
    "ax[1].plot(epochs , train_acc , label = 'Training Accuracy')\n",
    "ax[1].plot(epochs , test_acc , label = 'Testing Accuracy')\n",
    "ax[1].set_title('Training & Testing Accuracy')\n",
    "ax[1].legend()\n",
    "ax[1].set_xlabel(\"Epochs\")\n",
    "plt.show()"
   ]
  },
  {
   "cell_type": "code",
   "execution_count": 32,
   "metadata": {
    "ExecuteTime": {
     "end_time": "2024-03-01T21:02:29.040711Z",
     "start_time": "2024-03-01T21:02:18.577521Z"
    }
   },
   "outputs": [
    {
     "data": {
      "text/html": [
       "<div>\n",
       "<style scoped>\n",
       "    .dataframe tbody tr th:only-of-type {\n",
       "        vertical-align: middle;\n",
       "    }\n",
       "\n",
       "    .dataframe tbody tr th {\n",
       "        vertical-align: top;\n",
       "    }\n",
       "\n",
       "    .dataframe thead th {\n",
       "        text-align: right;\n",
       "    }\n",
       "</style>\n",
       "<table border=\"1\" class=\"dataframe\">\n",
       "  <thead>\n",
       "    <tr style=\"text-align: right;\">\n",
       "      <th></th>\n",
       "      <th>Predicted Labels</th>\n",
       "      <th>Actual Labels</th>\n",
       "    </tr>\n",
       "  </thead>\n",
       "  <tbody>\n",
       "    <tr>\n",
       "      <th>0</th>\n",
       "      <td>happy</td>\n",
       "      <td>happy</td>\n",
       "    </tr>\n",
       "    <tr>\n",
       "      <th>1</th>\n",
       "      <td>fear</td>\n",
       "      <td>fear</td>\n",
       "    </tr>\n",
       "    <tr>\n",
       "      <th>2</th>\n",
       "      <td>disgust</td>\n",
       "      <td>disgust</td>\n",
       "    </tr>\n",
       "    <tr>\n",
       "      <th>3</th>\n",
       "      <td>disgust</td>\n",
       "      <td>disgust</td>\n",
       "    </tr>\n",
       "    <tr>\n",
       "      <th>4</th>\n",
       "      <td>neutral</td>\n",
       "      <td>neutral</td>\n",
       "    </tr>\n",
       "    <tr>\n",
       "      <th>...</th>\n",
       "      <td>...</td>\n",
       "      <td>...</td>\n",
       "    </tr>\n",
       "    <tr>\n",
       "      <th>9724</th>\n",
       "      <td>disgust</td>\n",
       "      <td>disgust</td>\n",
       "    </tr>\n",
       "    <tr>\n",
       "      <th>9725</th>\n",
       "      <td>surprise</td>\n",
       "      <td>surprise</td>\n",
       "    </tr>\n",
       "    <tr>\n",
       "      <th>9726</th>\n",
       "      <td>happy</td>\n",
       "      <td>happy</td>\n",
       "    </tr>\n",
       "    <tr>\n",
       "      <th>9727</th>\n",
       "      <td>surprise</td>\n",
       "      <td>surprise</td>\n",
       "    </tr>\n",
       "    <tr>\n",
       "      <th>9728</th>\n",
       "      <td>sad</td>\n",
       "      <td>sad</td>\n",
       "    </tr>\n",
       "  </tbody>\n",
       "</table>\n",
       "<p>9729 rows × 2 columns</p>\n",
       "</div>"
      ],
      "text/plain": [
       "     Predicted Labels Actual Labels\n",
       "0               happy         happy\n",
       "1                fear          fear\n",
       "2             disgust       disgust\n",
       "3             disgust       disgust\n",
       "4             neutral       neutral\n",
       "...               ...           ...\n",
       "9724          disgust       disgust\n",
       "9725         surprise      surprise\n",
       "9726            happy         happy\n",
       "9727         surprise      surprise\n",
       "9728              sad           sad\n",
       "\n",
       "[9729 rows x 2 columns]"
      ]
     },
     "execution_count": 32,
     "metadata": {},
     "output_type": "execute_result"
    }
   ],
   "source": [
    "# predicting on test data.\n",
    "pred_test0 = model.predict(x_testcnn)\n",
    "y_pred0 = encoder.inverse_transform(pred_test0)\n",
    "y_test0 = encoder.inverse_transform(y_test)\n",
    "\n",
    "# Check for random predictions\n",
    "df0 = pd.DataFrame(columns=['Predicted Labels', 'Actual Labels'])\n",
    "df0['Predicted Labels'] = y_pred0.flatten()\n",
    "df0['Actual Labels'] = y_test0.flatten()\n",
    "\n",
    "df0"
   ]
  },
  {
   "cell_type": "markdown",
   "id": "ba493ab0",
   "metadata": {},
   "source": [
    "## Evalutation"
   ]
  },
  {
   "cell_type": "code",
   "execution_count": 33,
   "metadata": {
    "ExecuteTime": {
     "end_time": "2024-03-01T21:02:30.364908Z",
     "start_time": "2024-03-01T21:02:29.043029Z"
    }
   },
   "outputs": [
    {
     "data": {
      "image/png": "[encoded data removed]",
      "text/plain": [
       "<Figure size 864x720 with 2 Axes>"
      ]
     },
     "metadata": {
      "needs_background": "light"
     },
     "output_type": "display_data"
    },
    {
     "name": "stdout",
     "output_type": "stream",
     "text": [
      "              precision    recall  f1-score   support\n",
      "\n",
      "       angry       0.95      0.98      0.97      1537\n",
      "     disgust       0.96      0.96      0.96      1542\n",
      "        fear       0.97      0.96      0.96      1540\n",
      "       happy       0.96      0.97      0.96      1605\n",
      "     neutral       0.97      0.97      0.97      1516\n",
      "         sad       0.97      0.96      0.96      1477\n",
      "    surprise       0.99      0.98      0.98       512\n",
      "\n",
      "    accuracy                           0.97      9729\n",
      "   macro avg       0.97      0.97      0.97      9729\n",
      "weighted avg       0.97      0.97      0.97      9729\n",
      "\n"
     ]
    }
   ],
   "source": [
    "from sklearn.metrics import confusion_matrix,classification_report\n",
    "cm = confusion_matrix(y_test0, y_pred0)\n",
    "plt.figure(figsize = (12, 10))\n",
    "cm = pd.DataFrame(cm , index = [i for i in encoder.categories_] , columns = [i for i in encoder.categories_])\n",
    "#cm = cm.astype('float') / cm.sum(axis=1)[:, np.newaxis]\n",
    "sns.heatmap(cm, linecolor='white', cmap='Blues', linewidth=1, annot=True, fmt='.2f')\n",
    "plt.title('Confusion Matrix', size=20)\n",
    "plt.xlabel('Predicted Labels', size=14)\n",
    "plt.ylabel('Actual Labels', size=14)\n",
    "plt.show()\n",
    "print(classification_report(y_test0, y_pred0))"
   ]
  },
  {
   "cell_type": "markdown",
   "id": "de75975c",
   "metadata": {},
   "source": [
    "## Saving Model"
   ]
  },
  {
   "cell_type": "code",
   "execution_count": 34,
   "metadata": {
    "ExecuteTime": {
     "end_time": "2024-03-01T21:02:30.487490Z",
     "start_time": "2024-03-01T21:02:30.367271Z"
    }
   },
   "outputs": [
    {
     "name": "stdout",
     "output_type": "stream",
     "text": [
      "Saved model to disk\n"
     ]
    }
   ],
   "source": [
    "from tensorflow.keras.models import Sequential, model_from_json\n",
    "model_json = model.to_json()\n",
    "with open(\"CNN_model.json\", \"w\") as json_file:\n",
    "    json_file.write(model_json)\n",
    "# serialize weights to HDF5\n",
    "model.save_weights(\"CNN_model_weights.h5\")\n",
    "print(\"Saved model to disk\") "
   ]
  },
  {
   "cell_type": "code",
   "execution_count": 35,
   "metadata": {
    "ExecuteTime": {
     "end_time": "2024-03-01T21:02:30.497017Z",
     "start_time": "2024-03-01T21:02:30.489755Z"
    }
   },
   "outputs": [
    {
     "name": "stdout",
     "output_type": "stream",
     "text": [
      "Done\n"
     ]
    }
   ],
   "source": [
    "import pickle\n",
    "\n",
    "# Saving scaler\n",
    "with open('scaler2.pickle', 'wb') as f:\n",
    "    pickle.dump(scaler, f)\n",
    "\n",
    "# Loading scaler\n",
    "with open('scaler2.pickle', 'rb') as f:\n",
    "    scaler2 = pickle.load(f)\n",
    "\n",
    "# Saving encoder\n",
    "with open('encoder2.pickle', 'wb') as f:\n",
    "    pickle.dump(encoder, f)\n",
    "\n",
    "# Loading encoder\n",
    "with open('encoder2.pickle', 'rb') as f:\n",
    "    encoder2 = pickle.load(f)\n",
    "\n",
    "    \n",
    "print(\"Done\")    "
   ]
  }
 ],
 "metadata": {
  "kernelspec": {
   "display_name": "Python 3",
   "language": "python",
   "name": "python3"
  },
  "language_info": {
   "codemirror_mode": {
    "name": "ipython",
    "version": 3
   },
   "file_extension": ".py",
   "mimetype": "text/x-python",
   "name": "python",
   "nbconvert_exporter": "python",
   "pygments_lexer": "ipython3",
   "version": "3.8.5"
  },
  "toc": {
   "base_numbering": 1,
   "nav_menu": {},
   "number_sections": false,
   "sideBar": true,
   "skip_h1_title": false,
   "title_cell": "Table of Contents",
   "title_sidebar": "Contents",
   "toc_cell": false,
   "toc_position": {},
   "toc_section_display": true,
   "toc_window_display": false
  }
 },
 "nbformat": 4,
 "nbformat_minor": 5
}
