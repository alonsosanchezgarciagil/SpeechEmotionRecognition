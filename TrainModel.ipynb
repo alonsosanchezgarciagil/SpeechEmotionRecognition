{
 "cells": [
  {
   "cell_type": "markdown",
   "id": "3364dd3d",
   "metadata": {},
   "source": [
    "## Including Libraries"
   ]
  },
  {
   "cell_type": "code",
   "execution_count": null,
   "id": "e6fdeb0e-d638-416e-8192-6610aa863608",
   "metadata": {},
   "outputs": [
    {
     "name": "stdout",
     "output_type": "stream",
     "text": [
      "WARNING:tensorflow:From C:\\Users\\Usuario\\AppData\\Roaming\\Python\\Python310\\site-packages\\keras\\src\\losses.py:2976: The name tf.losses.sparse_softmax_cross_entropy is deprecated. Please use tf.compat.v1.losses.sparse_softmax_cross_entropy instead.\n",
      "\n",
      "Done\n"
     ]
    }
   ],
   "source": [
    "#IMPORT THE LIBRARIES\n",
    "import pandas as pd\n",
    "import numpy as np\n",
    "\n",
    "import os\n",
    "import sys\n",
    "\n",
    "# librosa is a Python library for analyzing audio and music. It can be used to extract the data from the audio files we will see it later.\n",
    "import librosa\n",
    "import librosa.display\n",
    "import seaborn as sns\n",
    "import matplotlib.pyplot as plt\n",
    "\n",
    "from sklearn.preprocessing import StandardScaler, OneHotEncoder\n",
    "from sklearn.metrics import confusion_matrix, classification_report\n",
    "from sklearn.model_selection import train_test_split\n",
    "\n",
    "# to play the audio files\n",
    "import IPython.display as ipd\n",
    "from IPython.display import Audio\n",
    "import keras\n",
    "from keras.preprocessing import sequence\n",
    "from keras.models import Sequential\n",
    "from keras.layers import Dense, Embedding\n",
    "from keras.layers import LSTM,BatchNormalization , GRU\n",
    "from keras.preprocessing.text import Tokenizer\n",
    "from keras.preprocessing.sequence import pad_sequences\n",
    "from tensorflow.keras.utils import to_categorical\n",
    "from keras.layers import Input, Flatten, Dropout, Activation\n",
    "from keras.layers import Conv1D, MaxPooling1D, AveragePooling1D\n",
    "from keras.models import Model\n",
    "from keras.callbacks import ModelCheckpoint\n",
    "from tensorflow.keras.optimizers import SGD\n",
    "\n",
    "\n",
    "\n",
    "import warnings\n",
    "if not sys.warnoptions:\n",
    "    warnings.simplefilter(\"ignore\")\n",
    "warnings.filterwarnings(\"ignore\", category=DeprecationWarning) \n",
    "import tensorflow as tf \n",
    "print (\"Done\")"
   ]
  },
  {
   "cell_type": "markdown",
   "id": "5053c168",
   "metadata": {},
   "source": [
    "## Including the Datasets"
   ]
  },
  {
   "cell_type": "code",
   "execution_count": null,
   "id": "63e664fd-4de1-41bd-a011-21017dc302ac",
   "metadata": {},
   "outputs": [],
   "source": [
    "#Those are the data sets, we will be using to train the model\n",
    "ravdess = \"C:/Users/DATA/ravdess/\"\n",
    "Crema = \"C:/Users/DATA/AudioWAV/\"\n",
    "Tess = \"C:/Users/DATA/TESS Toronto emotional speech set data/\"\n",
    "Savee = \"C:/Users/DATA/ALL/\"\n",
    "ravdess_directory_list = os.listdir(ravdess)"
   ]
  },
  {
   "cell_type": "markdown",
   "id": "56c55df7",
   "metadata": {},
   "source": [
    "## Preprocessing"
   ]
  },
  {
   "cell_type": "markdown",
   "id": "379cc0e9",
   "metadata": {},
   "source": [
    "#### Ravdees dataset"
   ]
  },
  {
   "cell_type": "code",
   "execution_count": null,
   "id": "e0cc1854-ee4b-4b9e-b361-55222ae30139",
   "metadata": {},
   "outputs": [],
   "source": [
    "file_emotion = []\n",
    "file_path = []\n",
    "for i in ravdess_directory_list:\n",
    "    # as their are 24 different actors in our previous directory we need to extract files for each actor.\n",
    "    actor = os.listdir(ravdess + i)\n",
    "    for f in actor:\n",
    "        part = f.split('.')[0].split('-')\n",
    "    # third part in each file represents the emotion associated to that file.\n",
    "        file_emotion.append(int(part[2]))\n",
    "        file_path.append(ravdess + i + '/' + f)"
   ]
  },
  {
   "cell_type": "code",
   "execution_count": null,
   "id": "428bba4b-512c-4e00-be7d-df24fcf62f77",
   "metadata": {},
   "outputs": [
    {
     "name": "stdout",
     "output_type": "stream",
     "text": [
      "Emotions\n",
      "neutral     287\n",
      "happy       192\n",
      "sad         192\n",
      "angry       192\n",
      "fear        192\n",
      "disgust     192\n",
      "surprise    192\n",
      "Name: count, dtype: int64\n"
     ]
    }
   ],
   "source": [
    "# dataframe for emotion of files\n",
    "emotion_df = pd.DataFrame(file_emotion, columns=['Emotions'])\n",
    "# dataframe for path of files.\n",
    "path_df = pd.DataFrame(file_path, columns=['Path'])\n",
    "ravdess_df = pd.concat([emotion_df, path_df], axis=1)\n",
    "# changing integers to actual emotions.\n",
    "ravdess_df.Emotions.replace({1:'neutral', 2:'neutral', 3:'happy', 4:'sad', 5:'angry', 6:'fear', 7:'disgust',\n",
    "                             8:'surprise'},\n",
    "                            inplace=True)\n",
    "\n",
    "print(ravdess_df.Emotions.value_counts())"
   ]
  },
  {
   "cell_type": "markdown",
   "id": "33bddfe6",
   "metadata": {},
   "source": [
    "#### Crema dataset"
   ]
  },
  {
   "cell_type": "code",
   "execution_count": null,
   "id": "6c91ba3a-6853-4dbd-a201-8d351a880c6b",
   "metadata": {},
   "outputs": [],
   "source": [
    "crema_directory_list = os.listdir(Crema)\n",
    "\n",
    "file_emotion = []\n",
    "file_path = []\n",
    "\n",
    "for file in crema_directory_list:\n",
    "    # storing file paths\n",
    "    file_path.append(Crema + file)\n",
    "    # storing file emotions\n",
    "    part=file.split('_')\n",
    "    if part[2] == 'SAD':\n",
    "        file_emotion.append('sad')\n",
    "    elif part[2] == 'ANG':\n",
    "        file_emotion.append('angry')\n",
    "    elif part[2] == 'DIS':\n",
    "        file_emotion.append('disgust')\n",
    "    elif part[2] == 'FEA':\n",
    "        file_emotion.append('fear')\n",
    "    elif part[2] == 'HAP':\n",
    "        file_emotion.append('happy')\n",
    "    elif part[2] == 'NEU':\n",
    "        file_emotion.append('neutral')\n",
    "    else:\n",
    "        file_emotion.append('Unknown')"
   ]
  },
  {
   "cell_type": "code",
   "execution_count": null,
   "id": "fbe1cb3a-34f5-46dc-acb9-0bf01d7b5134",
   "metadata": {},
   "outputs": [
    {
     "name": "stdout",
     "output_type": "stream",
     "text": [
      "Emotions\n",
      "angry      1271\n",
      "disgust    1271\n",
      "fear       1271\n",
      "happy      1271\n",
      "sad        1271\n",
      "neutral    1087\n",
      "Name: count, dtype: int64\n"
     ]
    }
   ],
   "source": [
    "# dataframe for emotion of files\n",
    "emotion_df = pd.DataFrame(file_emotion, columns=['Emotions'])\n",
    "\n",
    "# dataframe for path of files.\n",
    "path_df = pd.DataFrame(file_path, columns=['Path'])\n",
    "Crema_df = pd.concat([emotion_df, path_df], axis=1)\n",
    "Crema_df.head()\n",
    "print(Crema_df.Emotions.value_counts())"
   ]
  },
  {
   "cell_type": "markdown",
   "id": "968ada74",
   "metadata": {},
   "source": [
    "#### TESS dataset"
   ]
  },
  {
   "cell_type": "code",
   "execution_count": null,
   "id": "fe8a37dd-0e77-405a-906b-c62a948d0f09",
   "metadata": {},
   "outputs": [
    {
     "name": "stdout",
     "output_type": "stream",
     "text": [
      "Emotions\n",
      "angry       400\n",
      "disgust     400\n",
      "fear        400\n",
      "happy       400\n",
      "neutral     400\n",
      "surprise    400\n",
      "sad         400\n",
      "Name: count, dtype: int64\n"
     ]
    }
   ],
   "source": [
    "tess_directory_list = os.listdir(Tess)\n",
    "\n",
    "file_emotion = []\n",
    "file_path = []\n",
    "\n",
    "for dir in tess_directory_list:\n",
    "    directories = os.listdir(Tess + dir)\n",
    "    for file in directories:\n",
    "        if \".\" in file:\n",
    "            part = file.split('.')[0]\n",
    "            part = part.split('_')[2]\n",
    "            if part=='ps':\n",
    "                file_emotion.append('surprise')\n",
    "            else:\n",
    "                file_emotion.append(part)\n",
    "            file_path.append(Tess + dir + '/' + file)\n",
    "        \n",
    "# dataframe for emotion of files\n",
    "emotion_df = pd.DataFrame(file_emotion, columns=['Emotions'])\n",
    "\n",
    "# dataframe for path of files.\n",
    "path_df = pd.DataFrame(file_path, columns=['Path'])\n",
    "Tess_df = pd.concat([emotion_df, path_df], axis=1)\n",
    "Tess_df.head()\n",
    "print(Tess_df.Emotions.value_counts())"
   ]
  },
  {
   "cell_type": "markdown",
   "id": "23d2e691",
   "metadata": {},
   "source": [
    "#### SAVEE Dataset"
   ]
  },
  {
   "cell_type": "code",
   "execution_count": null,
   "id": "85179378-35b6-48a4-a0e2-534ca82f9286",
   "metadata": {},
   "outputs": [
    {
     "name": "stdout",
     "output_type": "stream",
     "text": [
      "Emotions\n",
      "neutral     120\n",
      "angry        60\n",
      "disgust      60\n",
      "fear         60\n",
      "happy        60\n",
      "sad          60\n",
      "surprise     60\n",
      "Name: count, dtype: int64\n"
     ]
    }
   ],
   "source": [
    "savee_directory_list = os.listdir(Savee)\n",
    "\n",
    "file_emotion = []\n",
    "file_path = []\n",
    "\n",
    "for file in savee_directory_list:\n",
    "    file_path.append(Savee + file)\n",
    "    part = file.split('_')[1]\n",
    "    ele = part[:-6]\n",
    "    if ele=='a':\n",
    "        file_emotion.append('angry')\n",
    "    elif ele=='d':\n",
    "        file_emotion.append('disgust')\n",
    "    elif ele=='f':\n",
    "        file_emotion.append('fear')\n",
    "    elif ele=='h':\n",
    "        file_emotion.append('happy')\n",
    "    elif ele=='n':\n",
    "        file_emotion.append('neutral')\n",
    "    elif ele=='sa':\n",
    "        file_emotion.append('sad')\n",
    "    else:\n",
    "        file_emotion.append('surprise')\n",
    "        \n",
    "# dataframe for emotion of files\n",
    "emotion_df = pd.DataFrame(file_emotion, columns=['Emotions'])\n",
    "\n",
    "# dataframe for path of files.\n",
    "path_df = pd.DataFrame(file_path, columns=['Path'])\n",
    "Savee_df = pd.concat([emotion_df, path_df], axis=1)\n",
    "Savee_df.head()\n",
    "print(Savee_df.Emotions.value_counts())"
   ]
  },
  {
   "cell_type": "markdown",
   "id": "d780ab0c",
   "metadata": {},
   "source": [
    "#### Integrate datasets"
   ]
  },
  {
   "cell_type": "code",
   "execution_count": null,
   "id": "b76941fc-af4a-4ea4-b309-5284733f2177",
   "metadata": {},
   "outputs": [
    {
     "data": {
      "text/html": [
       "<div>\n",
       "<style scoped>\n",
       "    .dataframe tbody tr th:only-of-type {\n",
       "        vertical-align: middle;\n",
       "    }\n",
       "\n",
       "    .dataframe tbody tr th {\n",
       "        vertical-align: top;\n",
       "    }\n",
       "\n",
       "    .dataframe thead th {\n",
       "        text-align: right;\n",
       "    }\n",
       "</style>\n",
       "<table border=\"1\" class=\"dataframe\">\n",
       "  <thead>\n",
       "    <tr style=\"text-align: right;\">\n",
       "      <th></th>\n",
       "      <th>Emotions</th>\n",
       "      <th>Path</th>\n",
       "    </tr>\n",
       "  </thead>\n",
       "  <tbody>\n",
       "    <tr>\n",
       "      <th>0</th>\n",
       "      <td>neutral</td>\n",
       "      <td>C:/Users/DATA/ravdess/Actor_01/03-01-01-01-01-...</td>\n",
       "    </tr>\n",
       "  </tbody>\n",
       "</table>\n",
       "</div>"
      ],
      "text/plain": [
       "  Emotions                                               Path\n",
       "0  neutral  C:/Users/DATA/ravdess/Actor_01/03-01-01-01-01-..."
      ]
     },
     "execution_count": 11,
     "metadata": {},
     "output_type": "execute_result"
    }
   ],
   "source": [
    "# creating Dataframe using all the 3 dataframes we created so far.\n",
    "data_path = pd.concat([ravdess_df, Crema_df, Tess_df, Savee_df], axis = 0)\n",
    "data_path.to_csv(\"data_path.csv\",index=False)\n",
    "data_path.head(1)"
   ]
  },
  {
   "cell_type": "code",
   "execution_count": null,
   "id": "b864f487-ea87-42e9-abbd-4510183cb989",
   "metadata": {},
   "outputs": [
    {
     "name": "stdout",
     "output_type": "stream",
     "text": [
      "Emotions\n",
      "happy       1923\n",
      "sad         1923\n",
      "angry       1923\n",
      "fear        1923\n",
      "disgust     1923\n",
      "neutral     1894\n",
      "surprise     652\n",
      "Name: count, dtype: int64\n"
     ]
    }
   ],
   "source": [
    "print(data_path.Emotions.value_counts())"
   ]
  },
  {
   "cell_type": "markdown",
   "id": "7e08f36c",
   "metadata": {},
   "source": [
    "## Data augmentation"
   ]
  },
  {
   "cell_type": "markdown",
   "id": "719f842c",
   "metadata": {},
   "source": [
    "###### Data augmentation is a technique of artificially increasing the training set by creating modified copies of a dataset using existing data. This is used to create elements with new variations in order to predict every audio. "
   ]
  },
  {
   "cell_type": "code",
   "execution_count": null,
   "id": "700cffb5-6420-4ecc-8228-48682ae40a46",
   "metadata": {},
   "outputs": [],
   "source": [
    "# NOISE\n",
    "def noise(data):\n",
    "    noise_amp = 0.035*np.random.uniform()*np.amax(data)\n",
    "    data = data + noise_amp*np.random.normal(size=data.shape[0])\n",
    "    return data\n",
    "\n",
    "# STRETCH\n",
    "def stretch(data, rate=0.8):\n",
    "    return librosa.effects.time_stretch(data, rate)\n",
    "# SHIFT\n",
    "def shift(data):\n",
    "    shift_range = int(np.random.uniform(low=-5, high = 5)*1000)\n",
    "    return np.roll(data, shift_range)\n",
    "# PITCH\n",
    "def pitch(data, sampling_rate, pitch_factor=0.7):\n",
    "    return librosa.effects.pitch_shift(data, sampling_rate, pitch_factor)"
   ]
  },
  {
   "cell_type": "markdown",
   "id": "b9142698",
   "metadata": {},
   "source": [
    "## Feature extraction"
   ]
  },
  {
   "cell_type": "code",
   "execution_count": null,
   "id": "753c1f2f-1af3-43a7-aea8-880da9d05417",
   "metadata": {},
   "outputs": [],
   "source": [
    "#The rate of sign-changes of the signal during the frame\n",
    "def zcr(data,frame_length,hop_length):\n",
    "    zcr=librosa.feature.zero_crossing_rate(data,frame_length=frame_length,hop_length=hop_length)\n",
    "    return np.squeeze(zcr)\n",
    "#The electrical power your audio signal creates over time\n",
    "def rmse(data,frame_length=2048,hop_length=512):\n",
    "    rmse=librosa.feature.rms(data,frame_length=frame_length,hop_length=hop_length)\n",
    "    return np.squeeze(rmse)\n",
    "#Set of coefficients that capture the shape of the power spectrum of a sound signa\n",
    "def mfcc(data,sr,frame_length=2048,hop_length=512,flatten:bool=True):\n",
    "    mfcc=librosa.feature.mfcc(data,sr=sr)\n",
    "    return np.squeeze(mfcc.T)if not flatten else np.ravel(mfcc.T)\n",
    "\n",
    "def extract_features(data,sr=22050,frame_length=2048,hop_length=512):\n",
    "    result=np.array([])\n",
    "    \n",
    "    result=np.hstack((result,\n",
    "                      zcr(data,frame_length,hop_length),\n",
    "                      rmse(data,frame_length,hop_length),\n",
    "                      mfcc(data,sr,frame_length,hop_length)\n",
    "                     ))\n",
    "    return result\n",
    "\n",
    "def get_features(path,duration=2.5, offset=0.6):\n",
    "    data,sr=librosa.load(path,duration=duration,offset=offset)\n",
    "    aud=extract_features(data)\n",
    "    audio=np.array(aud)\n",
    "    \n",
    "    noised_audio=noise(data)\n",
    "    aud2=extract_features(noised_audio)\n",
    "    audio=np.vstack((audio,aud2))\n",
    "    \n",
    "    pitched_audio=pitch(data,sr)\n",
    "    aud3=extract_features(pitched_audio)\n",
    "    audio=np.vstack((audio,aud3))\n",
    "    \n",
    "    pitched_audio1=pitch(data,sr)\n",
    "    pitched_noised_audio=noise(pitched_audio1)\n",
    "    aud4=extract_features(pitched_noised_audio)\n",
    "    audio=np.vstack((audio,aud4))\n",
    "    \n",
    "    return audio"
   ]
  },
  {
   "cell_type": "code",
   "execution_count": null,
   "id": "1fb90aa5-1f97-4ab1-85e7-8b5190dd4e0d",
   "metadata": {},
   "outputs": [
    {
     "name": "stdout",
     "output_type": "stream",
     "text": [
      "Number of processors:  16\n"
     ]
    }
   ],
   "source": [
    "import multiprocessing as mp\n",
    "print(\"Number of processors: \", mp.cpu_count())"
   ]
  },
  {
   "cell_type": "markdown",
   "id": "dfdbccf2",
   "metadata": {},
   "source": [
    "###### We will use the joblib library to process multiple audio files in parallel using the process_feature function. The perfonmance of this library depends on the number of processors, in this example 16 are used. "
   ]
  },
  {
   "cell_type": "code",
   "execution_count": null,
   "id": "31901a73-e7f6-4b12-b169-bce63b8a1f4c",
   "metadata": {},
   "outputs": [
    {
     "name": "stdout",
     "output_type": "stream",
     "text": [
      "Time:  1182.7540937000012\n"
     ]
    }
   ],
   "source": [
    "from joblib import Parallel, delayed\n",
    "import timeit\n",
    "from tqdm import tqdm\n",
    "start = timeit.default_timer()\n",
    "def process_feature(path, emotion):\n",
    "    features = get_features(path)\n",
    "    X = []\n",
    "    Y = []\n",
    "    for ele in features:\n",
    "        X.append(ele)\n",
    "        # appending emotion 3 times as we have made 3 augmentation techniques on each audio file.\n",
    "        Y.append(emotion)\n",
    "    return X, Y\n",
    "\n",
    "paths = data_path.Path\n",
    "emotions = data_path.Emotions\n",
    "\n",
    "# Run the loop in parallel\n",
    "results = Parallel(n_jobs=-1)(delayed(process_feature)(path, emotion) for (path, emotion) in zip(paths, emotions))\n",
    "\n",
    "# Collect the results\n",
    "X = []\n",
    "Y = []\n",
    "for result in results:\n",
    "    x, y = result\n",
    "    X.extend(x)\n",
    "    Y.extend(y)\n",
    "\n",
    "\n",
    "stop = timeit.default_timer()\n",
    "\n",
    "print('Time: ', stop - start)"
   ]
  },
  {
   "cell_type": "markdown",
   "id": "2961ffad",
   "metadata": {},
   "source": [
    "###### It took 1182.75 seconds to proccess all the data, whereas, not using the joblib library it would have taken almost an hour on this computer."
   ]
  },
  {
   "cell_type": "markdown",
   "id": "9115be85",
   "metadata": {},
   "source": [
    "## Saving features"
   ]
  },
  {
   "cell_type": "code",
   "execution_count": null,
   "id": "451b10fa-6bc2-4990-aa24-46c603bde0d9",
   "metadata": {},
   "outputs": [
    {
     "data": {
      "text/html": [
       "<div>\n",
       "<style scoped>\n",
       "    .dataframe tbody tr th:only-of-type {\n",
       "        vertical-align: middle;\n",
       "    }\n",
       "\n",
       "    .dataframe tbody tr th {\n",
       "        vertical-align: top;\n",
       "    }\n",
       "\n",
       "    .dataframe thead th {\n",
       "        text-align: right;\n",
       "    }\n",
       "</style>\n",
       "<table border=\"1\" class=\"dataframe\">\n",
       "  <thead>\n",
       "    <tr style=\"text-align: right;\">\n",
       "      <th></th>\n",
       "      <th>0</th>\n",
       "      <th>1</th>\n",
       "      <th>2</th>\n",
       "      <th>3</th>\n",
       "      <th>4</th>\n",
       "      <th>5</th>\n",
       "      <th>6</th>\n",
       "      <th>7</th>\n",
       "      <th>8</th>\n",
       "      <th>9</th>\n",
       "      <th>...</th>\n",
       "      <th>2367</th>\n",
       "      <th>2368</th>\n",
       "      <th>2369</th>\n",
       "      <th>2370</th>\n",
       "      <th>2371</th>\n",
       "      <th>2372</th>\n",
       "      <th>2373</th>\n",
       "      <th>2374</th>\n",
       "      <th>2375</th>\n",
       "      <th>Emotions</th>\n",
       "    </tr>\n",
       "  </thead>\n",
       "  <tbody>\n",
       "    <tr>\n",
       "      <th>0</th>\n",
       "      <td>0.066895</td>\n",
       "      <td>0.192871</td>\n",
       "      <td>0.343262</td>\n",
       "      <td>0.379883</td>\n",
       "      <td>0.334961</td>\n",
       "      <td>0.340820</td>\n",
       "      <td>0.330078</td>\n",
       "      <td>0.414062</td>\n",
       "      <td>0.522949</td>\n",
       "      <td>0.490723</td>\n",
       "      <td>...</td>\n",
       "      <td>0.000000</td>\n",
       "      <td>0.000000</td>\n",
       "      <td>0.000000</td>\n",
       "      <td>0.000000</td>\n",
       "      <td>0.000000</td>\n",
       "      <td>0.000000</td>\n",
       "      <td>0.000000</td>\n",
       "      <td>0.000000</td>\n",
       "      <td>0.000000</td>\n",
       "      <td>neutral</td>\n",
       "    </tr>\n",
       "    <tr>\n",
       "      <th>1</th>\n",
       "      <td>0.244629</td>\n",
       "      <td>0.369629</td>\n",
       "      <td>0.491211</td>\n",
       "      <td>0.505859</td>\n",
       "      <td>0.510742</td>\n",
       "      <td>0.515137</td>\n",
       "      <td>0.532227</td>\n",
       "      <td>0.518555</td>\n",
       "      <td>0.506348</td>\n",
       "      <td>0.504395</td>\n",
       "      <td>...</td>\n",
       "      <td>5.264288</td>\n",
       "      <td>0.755347</td>\n",
       "      <td>-3.469528</td>\n",
       "      <td>-1.330656</td>\n",
       "      <td>-3.499534</td>\n",
       "      <td>-1.845518</td>\n",
       "      <td>-0.166362</td>\n",
       "      <td>2.189116</td>\n",
       "      <td>-1.296835</td>\n",
       "      <td>neutral</td>\n",
       "    </tr>\n",
       "    <tr>\n",
       "      <th>2</th>\n",
       "      <td>0.192383</td>\n",
       "      <td>0.280273</td>\n",
       "      <td>0.338379</td>\n",
       "      <td>0.331543</td>\n",
       "      <td>0.323730</td>\n",
       "      <td>0.333496</td>\n",
       "      <td>0.377441</td>\n",
       "      <td>0.399414</td>\n",
       "      <td>0.399414</td>\n",
       "      <td>0.390625</td>\n",
       "      <td>...</td>\n",
       "      <td>0.000000</td>\n",
       "      <td>0.000000</td>\n",
       "      <td>0.000000</td>\n",
       "      <td>0.000000</td>\n",
       "      <td>0.000000</td>\n",
       "      <td>0.000000</td>\n",
       "      <td>0.000000</td>\n",
       "      <td>0.000000</td>\n",
       "      <td>0.000000</td>\n",
       "      <td>neutral</td>\n",
       "    </tr>\n",
       "    <tr>\n",
       "      <th>3</th>\n",
       "      <td>0.239258</td>\n",
       "      <td>0.366211</td>\n",
       "      <td>0.478027</td>\n",
       "      <td>0.484863</td>\n",
       "      <td>0.480469</td>\n",
       "      <td>0.475586</td>\n",
       "      <td>0.480469</td>\n",
       "      <td>0.471680</td>\n",
       "      <td>0.454590</td>\n",
       "      <td>0.420898</td>\n",
       "      <td>...</td>\n",
       "      <td>-1.695584</td>\n",
       "      <td>0.443035</td>\n",
       "      <td>0.568245</td>\n",
       "      <td>-2.407460</td>\n",
       "      <td>-6.043442</td>\n",
       "      <td>-1.368814</td>\n",
       "      <td>-1.859364</td>\n",
       "      <td>-3.760630</td>\n",
       "      <td>0.429460</td>\n",
       "      <td>neutral</td>\n",
       "    </tr>\n",
       "    <tr>\n",
       "      <th>4</th>\n",
       "      <td>0.032227</td>\n",
       "      <td>0.094727</td>\n",
       "      <td>0.094727</td>\n",
       "      <td>0.223145</td>\n",
       "      <td>0.294922</td>\n",
       "      <td>0.369629</td>\n",
       "      <td>0.521973</td>\n",
       "      <td>0.522461</td>\n",
       "      <td>0.525391</td>\n",
       "      <td>0.494141</td>\n",
       "      <td>...</td>\n",
       "      <td>0.000000</td>\n",
       "      <td>0.000000</td>\n",
       "      <td>0.000000</td>\n",
       "      <td>0.000000</td>\n",
       "      <td>0.000000</td>\n",
       "      <td>0.000000</td>\n",
       "      <td>0.000000</td>\n",
       "      <td>0.000000</td>\n",
       "      <td>0.000000</td>\n",
       "      <td>neutral</td>\n",
       "    </tr>\n",
       "    <tr>\n",
       "      <th>...</th>\n",
       "      <td>...</td>\n",
       "      <td>...</td>\n",
       "      <td>...</td>\n",
       "      <td>...</td>\n",
       "      <td>...</td>\n",
       "      <td>...</td>\n",
       "      <td>...</td>\n",
       "      <td>...</td>\n",
       "      <td>...</td>\n",
       "      <td>...</td>\n",
       "      <td>...</td>\n",
       "      <td>...</td>\n",
       "      <td>...</td>\n",
       "      <td>...</td>\n",
       "      <td>...</td>\n",
       "      <td>...</td>\n",
       "      <td>...</td>\n",
       "      <td>...</td>\n",
       "      <td>...</td>\n",
       "      <td>...</td>\n",
       "      <td>...</td>\n",
       "    </tr>\n",
       "    <tr>\n",
       "      <th>95</th>\n",
       "      <td>0.247559</td>\n",
       "      <td>0.374512</td>\n",
       "      <td>0.500488</td>\n",
       "      <td>0.506836</td>\n",
       "      <td>0.504395</td>\n",
       "      <td>0.497070</td>\n",
       "      <td>0.499023</td>\n",
       "      <td>0.490723</td>\n",
       "      <td>0.486816</td>\n",
       "      <td>0.493652</td>\n",
       "      <td>...</td>\n",
       "      <td>-5.604063</td>\n",
       "      <td>0.916649</td>\n",
       "      <td>-3.190935</td>\n",
       "      <td>-3.244664</td>\n",
       "      <td>1.965741</td>\n",
       "      <td>1.207237</td>\n",
       "      <td>-6.271687</td>\n",
       "      <td>-7.547794</td>\n",
       "      <td>-6.453492</td>\n",
       "      <td>sad</td>\n",
       "    </tr>\n",
       "    <tr>\n",
       "      <th>96</th>\n",
       "      <td>0.085449</td>\n",
       "      <td>0.195312</td>\n",
       "      <td>0.195312</td>\n",
       "      <td>0.237793</td>\n",
       "      <td>0.265625</td>\n",
       "      <td>0.199219</td>\n",
       "      <td>0.199219</td>\n",
       "      <td>0.156250</td>\n",
       "      <td>0.052734</td>\n",
       "      <td>0.040039</td>\n",
       "      <td>...</td>\n",
       "      <td>0.105901</td>\n",
       "      <td>0.083131</td>\n",
       "      <td>0.059892</td>\n",
       "      <td>0.036500</td>\n",
       "      <td>0.013255</td>\n",
       "      <td>-0.009528</td>\n",
       "      <td>-0.031604</td>\n",
       "      <td>-0.052659</td>\n",
       "      <td>-0.072452</td>\n",
       "      <td>sad</td>\n",
       "    </tr>\n",
       "    <tr>\n",
       "      <th>97</th>\n",
       "      <td>0.249023</td>\n",
       "      <td>0.381348</td>\n",
       "      <td>0.514648</td>\n",
       "      <td>0.504883</td>\n",
       "      <td>0.511719</td>\n",
       "      <td>0.502441</td>\n",
       "      <td>0.486328</td>\n",
       "      <td>0.494141</td>\n",
       "      <td>0.489746</td>\n",
       "      <td>0.497559</td>\n",
       "      <td>...</td>\n",
       "      <td>-1.483764</td>\n",
       "      <td>2.440075</td>\n",
       "      <td>3.326156</td>\n",
       "      <td>-2.918686</td>\n",
       "      <td>-0.851974</td>\n",
       "      <td>-3.402444</td>\n",
       "      <td>-6.193750</td>\n",
       "      <td>-2.348346</td>\n",
       "      <td>-0.826580</td>\n",
       "      <td>sad</td>\n",
       "    </tr>\n",
       "    <tr>\n",
       "      <th>98</th>\n",
       "      <td>0.190430</td>\n",
       "      <td>0.293457</td>\n",
       "      <td>0.388672</td>\n",
       "      <td>0.400879</td>\n",
       "      <td>0.376953</td>\n",
       "      <td>0.325684</td>\n",
       "      <td>0.282227</td>\n",
       "      <td>0.253418</td>\n",
       "      <td>0.267578</td>\n",
       "      <td>0.302734</td>\n",
       "      <td>...</td>\n",
       "      <td>0.000000</td>\n",
       "      <td>0.000000</td>\n",
       "      <td>0.000000</td>\n",
       "      <td>0.000000</td>\n",
       "      <td>0.000000</td>\n",
       "      <td>0.000000</td>\n",
       "      <td>0.000000</td>\n",
       "      <td>0.000000</td>\n",
       "      <td>0.000000</td>\n",
       "      <td>sad</td>\n",
       "    </tr>\n",
       "    <tr>\n",
       "      <th>99</th>\n",
       "      <td>0.244629</td>\n",
       "      <td>0.361328</td>\n",
       "      <td>0.492188</td>\n",
       "      <td>0.491699</td>\n",
       "      <td>0.511719</td>\n",
       "      <td>0.521973</td>\n",
       "      <td>0.522949</td>\n",
       "      <td>0.519531</td>\n",
       "      <td>0.509277</td>\n",
       "      <td>0.506348</td>\n",
       "      <td>...</td>\n",
       "      <td>-0.996468</td>\n",
       "      <td>2.292858</td>\n",
       "      <td>0.500025</td>\n",
       "      <td>1.871048</td>\n",
       "      <td>3.349283</td>\n",
       "      <td>1.079716</td>\n",
       "      <td>-1.420676</td>\n",
       "      <td>-5.654065</td>\n",
       "      <td>-3.860903</td>\n",
       "      <td>sad</td>\n",
       "    </tr>\n",
       "  </tbody>\n",
       "</table>\n",
       "<p>100 rows × 2377 columns</p>\n",
       "</div>"
      ],
      "text/plain": [
       "           0         1         2         3         4         5         6  \\\n",
       "0   0.066895  0.192871  0.343262  0.379883  0.334961  0.340820  0.330078   \n",
       "1   0.244629  0.369629  0.491211  0.505859  0.510742  0.515137  0.532227   \n",
       "2   0.192383  0.280273  0.338379  0.331543  0.323730  0.333496  0.377441   \n",
       "3   0.239258  0.366211  0.478027  0.484863  0.480469  0.475586  0.480469   \n",
       "4   0.032227  0.094727  0.094727  0.223145  0.294922  0.369629  0.521973   \n",
       "..       ...       ...       ...       ...       ...       ...       ...   \n",
       "95  0.247559  0.374512  0.500488  0.506836  0.504395  0.497070  0.499023   \n",
       "96  0.085449  0.195312  0.195312  0.237793  0.265625  0.199219  0.199219   \n",
       "97  0.249023  0.381348  0.514648  0.504883  0.511719  0.502441  0.486328   \n",
       "98  0.190430  0.293457  0.388672  0.400879  0.376953  0.325684  0.282227   \n",
       "99  0.244629  0.361328  0.492188  0.491699  0.511719  0.521973  0.522949   \n",
       "\n",
       "           7         8         9  ...      2367      2368      2369      2370  \\\n",
       "0   0.414062  0.522949  0.490723  ...  0.000000  0.000000  0.000000  0.000000   \n",
       "1   0.518555  0.506348  0.504395  ...  5.264288  0.755347 -3.469528 -1.330656   \n",
       "2   0.399414  0.399414  0.390625  ...  0.000000  0.000000  0.000000  0.000000   \n",
       "3   0.471680  0.454590  0.420898  ... -1.695584  0.443035  0.568245 -2.407460   \n",
       "4   0.522461  0.525391  0.494141  ...  0.000000  0.000000  0.000000  0.000000   \n",
       "..       ...       ...       ...  ...       ...       ...       ...       ...   \n",
       "95  0.490723  0.486816  0.493652  ... -5.604063  0.916649 -3.190935 -3.244664   \n",
       "96  0.156250  0.052734  0.040039  ...  0.105901  0.083131  0.059892  0.036500   \n",
       "97  0.494141  0.489746  0.497559  ... -1.483764  2.440075  3.326156 -2.918686   \n",
       "98  0.253418  0.267578  0.302734  ...  0.000000  0.000000  0.000000  0.000000   \n",
       "99  0.519531  0.509277  0.506348  ... -0.996468  2.292858  0.500025  1.871048   \n",
       "\n",
       "        2371      2372      2373      2374      2375  Emotions  \n",
       "0   0.000000  0.000000  0.000000  0.000000  0.000000   neutral  \n",
       "1  -3.499534 -1.845518 -0.166362  2.189116 -1.296835   neutral  \n",
       "2   0.000000  0.000000  0.000000  0.000000  0.000000   neutral  \n",
       "3  -6.043442 -1.368814 -1.859364 -3.760630  0.429460   neutral  \n",
       "4   0.000000  0.000000  0.000000  0.000000  0.000000   neutral  \n",
       "..       ...       ...       ...       ...       ...       ...  \n",
       "95  1.965741  1.207237 -6.271687 -7.547794 -6.453492       sad  \n",
       "96  0.013255 -0.009528 -0.031604 -0.052659 -0.072452       sad  \n",
       "97 -0.851974 -3.402444 -6.193750 -2.348346 -0.826580       sad  \n",
       "98  0.000000  0.000000  0.000000  0.000000  0.000000       sad  \n",
       "99  3.349283  1.079716 -1.420676 -5.654065 -3.860903       sad  \n",
       "\n",
       "[100 rows x 2377 columns]"
      ]
     },
     "execution_count": 22,
     "metadata": {},
     "output_type": "execute_result"
    }
   ],
   "source": [
    "Emotions = pd.DataFrame(X)\n",
    "Emotions['Emotions'] = Y\n",
    "Emotions.head(100)"
   ]
  },
  {
   "cell_type": "code",
   "execution_count": null,
   "id": "f0584b4b-c4a5-443f-81e2-f3d08856f560",
   "metadata": {},
   "outputs": [],
   "source": [
    "Emotions.to_csv('C:/Users/Usuario/Documents/Universidad/emotion.csv', index=False)"
   ]
  },
  {
   "cell_type": "code",
   "execution_count": null,
   "id": "5ef6f942-0c8d-4541-ac52-76e0e090e0db",
   "metadata": {},
   "outputs": [
    {
     "data": {
      "text/plain": [
       "(48644, 2377)"
      ]
     },
     "execution_count": 24,
     "metadata": {},
     "output_type": "execute_result"
    }
   ],
   "source": [
    "Emotions.shape"
   ]
  },
  {
   "cell_type": "markdown",
   "id": "6b7022fe",
   "metadata": {},
   "source": [
    "## Data preparation"
   ]
  },
  {
   "cell_type": "code",
   "execution_count": null,
   "id": "14bf6274-d734-4459-a2f9-60c875b4d7f4",
   "metadata": {},
   "outputs": [
    {
     "name": "stdout",
     "output_type": "stream",
     "text": [
      "0           False\n",
      "1           False\n",
      "2           False\n",
      "3           False\n",
      "4           False\n",
      "            ...  \n",
      "2372         True\n",
      "2373         True\n",
      "2374         True\n",
      "2375         True\n",
      "Emotions    False\n",
      "Length: 2377, dtype: bool\n"
     ]
    }
   ],
   "source": [
    "#check if there is any invalid data\n",
    "print(Emotions.isna().any())"
   ]
  },
  {
   "cell_type": "code",
   "execution_count": null,
   "id": "d06664a0-6ac1-49be-b3eb-18e078418821",
   "metadata": {},
   "outputs": [
    {
     "name": "stdout",
     "output_type": "stream",
     "text": [
      "0           False\n",
      "1           False\n",
      "2           False\n",
      "3           False\n",
      "4           False\n",
      "            ...  \n",
      "2372        False\n",
      "2373        False\n",
      "2374        False\n",
      "2375        False\n",
      "Emotions    False\n",
      "Length: 2377, dtype: bool\n"
     ]
    },
    {
     "data": {
      "text/plain": [
       "(48644, 2377)"
      ]
     },
     "execution_count": 27,
     "metadata": {},
     "output_type": "execute_result"
    }
   ],
   "source": [
    "#fill the invalid data with 0\n",
    "Emotions=Emotions.fillna(0)\n",
    "print(Emotions.isna().any())\n",
    "Emotions.shape"
   ]
  },
  {
   "cell_type": "code",
   "execution_count": null,
   "id": "f081b362-c1fd-46fe-be47-d181c6a9d492",
   "metadata": {},
   "outputs": [],
   "source": [
    "#taking all rows and all cols without last col for X which include features\n",
    "#taking last col for Y, which include the emotions\n",
    "X = Emotions.iloc[: ,:-1].values\n",
    "Y = Emotions['Emotions'].values"
   ]
  },
  {
   "cell_type": "code",
   "execution_count": null,
   "id": "a49523e3-c7f0-4f05-b592-da9b3349b5eb",
   "metadata": {},
   "outputs": [
    {
     "data": {
      "text/plain": [
       "array([[ 6.68945312e-02,  1.92871094e-01,  3.43261719e-01, ...,\n",
       "         0.00000000e+00,  0.00000000e+00,  0.00000000e+00],\n",
       "       [ 2.44628906e-01,  3.69628906e-01,  4.91210938e-01, ...,\n",
       "        -1.66362306e-01,  2.18911566e+00, -1.29683484e+00],\n",
       "       [ 1.92382812e-01,  2.80273438e-01,  3.38378906e-01, ...,\n",
       "         0.00000000e+00,  0.00000000e+00,  0.00000000e+00],\n",
       "       ...,\n",
       "       [ 2.16308594e-01,  3.30566406e-01,  3.93554688e-01, ...,\n",
       "         2.32738103e+00, -7.42139276e-01, -7.70463225e-01],\n",
       "       [ 4.88281250e-03,  1.56250000e-02,  2.73437500e-02, ...,\n",
       "         1.82124734e+00,  1.39067574e+01, -1.14308310e+00],\n",
       "       [ 1.45019531e-01,  1.85058594e-01,  2.02636719e-01, ...,\n",
       "         5.46694818e+00,  4.53309496e+00,  1.14800519e+00]])"
      ]
     },
     "execution_count": 32,
     "metadata": {},
     "output_type": "execute_result"
    }
   ],
   "source": [
    "X"
   ]
  },
  {
   "cell_type": "code",
   "execution_count": null,
   "id": "27de382d-f154-4be4-b9f5-fc2db2b28656",
   "metadata": {},
   "outputs": [
    {
     "data": {
      "text/plain": [
       "array(['neutral', 'neutral', 'neutral', ..., 'surprise', 'surprise',\n",
       "       'surprise'], dtype=object)"
      ]
     },
     "execution_count": 30,
     "metadata": {},
     "output_type": "execute_result"
    }
   ],
   "source": [
    "Y"
   ]
  },
  {
   "cell_type": "code",
   "execution_count": null,
   "id": "7dc11238-0a58-4853-8b56-807c4dec0391",
   "metadata": {},
   "outputs": [],
   "source": [
    "#As we can see, Y is a list of the emotions, we would need to encode all these values. \n",
    "from sklearn.preprocessing import StandardScaler, OneHotEncoder\n",
    "encoder = OneHotEncoder()\n",
    "Y = encoder.fit_transform(np.array(Y).reshape(-1,1)).toarray()"
   ]
  },
  {
   "cell_type": "code",
   "execution_count": null,
   "id": "0f6d3089-2350-4e28-bf4d-e39ce79455f2",
   "metadata": {},
   "outputs": [
    {
     "data": {
      "text/plain": [
       "array([[0., 0., 0., ..., 1., 0., 0.],\n",
       "       [0., 0., 0., ..., 1., 0., 0.],\n",
       "       [0., 0., 0., ..., 1., 0., 0.],\n",
       "       ...,\n",
       "       [0., 0., 0., ..., 0., 0., 1.],\n",
       "       [0., 0., 0., ..., 0., 0., 1.],\n",
       "       [0., 0., 0., ..., 0., 0., 1.]])"
      ]
     },
     "execution_count": 34,
     "metadata": {},
     "output_type": "execute_result"
    }
   ],
   "source": [
    "Y"
   ]
  },
  {
   "cell_type": "code",
   "execution_count": null,
   "id": "58645fa1-7ff7-463c-a996-e9b6fecb741d",
   "metadata": {},
   "outputs": [
    {
     "data": {
      "text/plain": [
       "((38915, 2376), (38915, 7), (9729, 2376), (9729, 7))"
      ]
     },
     "execution_count": 35,
     "metadata": {},
     "output_type": "execute_result"
    }
   ],
   "source": [
    "from sklearn.model_selection import train_test_split\n",
    "\n",
    "x_train, x_test, y_train, y_test = train_test_split(X, Y, random_state=42,test_size=0.2, shuffle=True)\n",
    "x_train.shape, y_train.shape, x_test.shape, y_test.shape"
   ]
  },
  {
   "cell_type": "code",
   "execution_count": null,
   "id": "d3b7e11e-1ec9-4e47-9143-d2faa46e0e0b",
   "metadata": {},
   "outputs": [
    {
     "data": {
      "text/plain": [
       "((38915, 2376), (38915, 7), (9729, 2376), (9729, 7))"
      ]
     },
     "execution_count": 36,
     "metadata": {},
     "output_type": "execute_result"
    }
   ],
   "source": [
    "# scaling our data with sklearn's Standard scaler\n",
    "scaler = StandardScaler()\n",
    "x_train = scaler.fit_transform(x_train)\n",
    "x_test = scaler.transform(x_test)\n",
    "x_train.shape, y_train.shape, x_test.shape, y_test.shape"
   ]
  },
  {
   "cell_type": "markdown",
   "id": "4f206ed7",
   "metadata": {},
   "source": [
    "## Trainig a CNN model"
   ]
  },
  {
   "cell_type": "code",
   "execution_count": null,
   "id": "03eaf10b-dd5f-45fb-a558-937c0d30ca75",
   "metadata": {},
   "outputs": [
    {
     "data": {
      "text/plain": [
       "((38915, 2376, 1), (38915, 7), (9729, 2376, 1), (9729, 7))"
      ]
     },
     "execution_count": 37,
     "metadata": {},
     "output_type": "execute_result"
    }
   ],
   "source": [
    "#Reshape for CNN_LSTM MODEL\n",
    "x_traincnn =np.expand_dims(x_train, axis=2)\n",
    "x_testcnn= np.expand_dims(x_test, axis=2)\n",
    "x_traincnn.shape, y_train.shape, x_testcnn.shape, y_test.shape"
   ]
  },
  {
   "cell_type": "code",
   "execution_count": null,
   "id": "5317d5e9-7b1b-4df9-b613-719c9ba1213c",
   "metadata": {},
   "outputs": [],
   "source": [
    "from keras.callbacks import ModelCheckpoint, EarlyStopping,ReduceLROnPlateau\n",
    "early_stop=EarlyStopping(monitor='val_acc',mode='auto',patience=5,restore_best_weights=True)\n",
    "lr_reduction=ReduceLROnPlateau(monitor='val_acc',patience=3,verbose=1,factor=0.5,min_lr=0.00001)"
   ]
  },
  {
   "cell_type": "code",
   "execution_count": null,
   "id": "1be3225f-f3cc-46b6-9479-b189831ed06d",
   "metadata": {},
   "outputs": [
    {
     "name": "stdout",
     "output_type": "stream",
     "text": [
      "WARNING:tensorflow:From C:\\Users\\Usuario\\AppData\\Roaming\\Python\\Python310\\site-packages\\keras\\src\\backend.py:873: The name tf.get_default_graph is deprecated. Please use tf.compat.v1.get_default_graph instead.\n",
      "\n",
      "WARNING:tensorflow:From C:\\Users\\Usuario\\AppData\\Roaming\\Python\\Python310\\site-packages\\keras\\src\\backend.py:6642: The name tf.nn.max_pool is deprecated. Please use tf.nn.max_pool2d instead.\n",
      "\n",
      "WARNING:tensorflow:From C:\\Users\\Usuario\\AppData\\Roaming\\Python\\Python310\\site-packages\\keras\\src\\optimizers\\__init__.py:309: The name tf.train.Optimizer is deprecated. Please use tf.compat.v1.train.Optimizer instead.\n",
      "\n",
      "Model: \"sequential\"\n",
      "_________________________________________________________________\n",
      " Layer (type)                Output Shape              Param #   \n",
      "=================================================================\n",
      " conv1d (Conv1D)             (None, 2376, 512)         3072      \n",
      "                                                                 \n",
      " batch_normalization (Batch  (None, 2376, 512)         2048      \n",
      " Normalization)                                                  \n",
      "                                                                 \n",
      " max_pooling1d (MaxPooling1  (None, 1188, 512)         0         \n",
      " D)                                                              \n",
      "                                                                 \n",
      " conv1d_1 (Conv1D)           (None, 1188, 512)         1311232   \n",
      "                                                                 \n",
      " batch_normalization_1 (Bat  (None, 1188, 512)         2048      \n",
      " chNormalization)                                                \n",
      "                                                                 \n",
      " max_pooling1d_1 (MaxPoolin  (None, 594, 512)          0         \n",
      " g1D)                                                            \n",
      "                                                                 \n",
      " dropout (Dropout)           (None, 594, 512)          0         \n",
      "                                                                 \n",
      " conv1d_2 (Conv1D)           (None, 594, 256)          655616    \n",
      "                                                                 \n",
      " batch_normalization_2 (Bat  (None, 594, 256)          1024      \n",
      " chNormalization)                                                \n",
      "                                                                 \n",
      " max_pooling1d_2 (MaxPoolin  (None, 297, 256)          0         \n",
      " g1D)                                                            \n",
      "                                                                 \n",
      " conv1d_3 (Conv1D)           (None, 297, 256)          196864    \n",
      "                                                                 \n",
      " batch_normalization_3 (Bat  (None, 297, 256)          1024      \n",
      " chNormalization)                                                \n",
      "                                                                 \n",
      " max_pooling1d_3 (MaxPoolin  (None, 149, 256)          0         \n",
      " g1D)                                                            \n",
      "                                                                 \n",
      " dropout_1 (Dropout)         (None, 149, 256)          0         \n",
      "                                                                 \n",
      " conv1d_4 (Conv1D)           (None, 149, 128)          98432     \n",
      "                                                                 \n",
      " batch_normalization_4 (Bat  (None, 149, 128)          512       \n",
      " chNormalization)                                                \n",
      "                                                                 \n",
      " max_pooling1d_4 (MaxPoolin  (None, 75, 128)           0         \n",
      " g1D)                                                            \n",
      "                                                                 \n",
      " dropout_2 (Dropout)         (None, 75, 128)           0         \n",
      "                                                                 \n",
      " flatten (Flatten)           (None, 9600)              0         \n",
      "                                                                 \n",
      " dense (Dense)               (None, 512)               4915712   \n",
      "                                                                 \n",
      " batch_normalization_5 (Bat  (None, 512)               2048      \n",
      " chNormalization)                                                \n",
      "                                                                 \n",
      " dense_1 (Dense)             (None, 7)                 3591      \n",
      "                                                                 \n",
      "=================================================================\n",
      "Total params: 7193223 (27.44 MB)\n",
      "Trainable params: 7188871 (27.42 MB)\n",
      "Non-trainable params: 4352 (17.00 KB)\n",
      "_________________________________________________________________\n"
     ]
    }
   ],
   "source": [
    "import tensorflow.keras.layers as L\n",
    "\n",
    "model = tf.keras.Sequential([\n",
    "    L.Conv1D(512,kernel_size=5, strides=1,padding='same', activation='relu',input_shape=(x_traincnn.shape[1],1)),\n",
    "    L.BatchNormalization(),\n",
    "    L.MaxPool1D(pool_size=5,strides=2,padding='same'),\n",
    "    \n",
    "    L.Conv1D(512,kernel_size=5,strides=1,padding='same',activation='relu'),\n",
    "    L.BatchNormalization(),\n",
    "    L.MaxPool1D(pool_size=5,strides=2,padding='same'),\n",
    "    Dropout(0.2),  # Add dropout layer after the second max pooling layer\n",
    "    \n",
    "    L.Conv1D(256,kernel_size=5,strides=1,padding='same',activation='relu'),\n",
    "    L.BatchNormalization(),\n",
    "    L.MaxPool1D(pool_size=5,strides=2,padding='same'),\n",
    "    \n",
    "    L.Conv1D(256,kernel_size=3,strides=1,padding='same',activation='relu'),\n",
    "    L.BatchNormalization(),\n",
    "    L.MaxPool1D(pool_size=5,strides=2,padding='same'),\n",
    "    Dropout(0.2),  # Add dropout layer after the fourth max pooling layer\n",
    "    \n",
    "    L.Conv1D(128,kernel_size=3,strides=1,padding='same',activation='relu'),\n",
    "    L.BatchNormalization(),\n",
    "    L.MaxPool1D(pool_size=3,strides=2,padding='same'),\n",
    "    Dropout(0.2),  # Add dropout layer after the fifth max pooling layer\n",
    "    \n",
    "    L.Flatten(),\n",
    "    L.Dense(512,activation='relu'),\n",
    "    L.BatchNormalization(),\n",
    "    L.Dense(7,activation='softmax')\n",
    "])\n",
    "model.compile(optimizer='adam',loss='categorical_crossentropy',metrics='accuracy')\n",
    "model.summary()"
   ]
  },
  {
   "cell_type": "code",
   "execution_count": null,
   "id": "0222a0c6-16ff-4b0a-834d-5de3fe471534",
   "metadata": {},
   "outputs": [
    {
     "name": "stdout",
     "output_type": "stream",
     "text": [
      "Epoch 1/8\n",
      "WARNING:tensorflow:From C:\\Users\\Usuario\\AppData\\Roaming\\Python\\Python310\\site-packages\\keras\\src\\utils\\tf_utils.py:492: The name tf.ragged.RaggedTensorValue is deprecated. Please use tf.compat.v1.ragged.RaggedTensorValue instead.\n",
      "\n",
      "WARNING:tensorflow:From C:\\Users\\Usuario\\AppData\\Roaming\\Python\\Python310\\site-packages\\keras\\src\\engine\\base_layer_utils.py:384: The name tf.executing_eagerly_outside_functions is deprecated. Please use tf.compat.v1.executing_eagerly_outside_functions instead.\n",
      "\n",
      "609/609 [==============================] - ETA: 0s - loss: 1.4054 - accuracy: 0.4648WARNING:tensorflow:Early stopping conditioned on metric `val_acc` which is not available. Available metrics are: loss,accuracy,val_loss,val_accuracy\n",
      "WARNING:tensorflow:Learning rate reduction is conditioned on metric `val_acc` which is not available. Available metrics are: loss,accuracy,val_loss,val_accuracy,lr\n",
      "609/609 [==============================] - 3522s 6s/step - loss: 1.4054 - accuracy: 0.4648 - val_loss: 1.2697 - val_accuracy: 0.5106 - lr: 0.0010\n",
      "Epoch 2/8\n",
      "609/609 [==============================] - ETA: 0s - loss: 1.1164 - accuracy: 0.5697WARNING:tensorflow:Early stopping conditioned on metric `val_acc` which is not available. Available metrics are: loss,accuracy,val_loss,val_accuracy\n",
      "WARNING:tensorflow:Learning rate reduction is conditioned on metric `val_acc` which is not available. Available metrics are: loss,accuracy,val_loss,val_accuracy,lr\n",
      "609/609 [==============================] - 3665s 6s/step - loss: 1.1164 - accuracy: 0.5697 - val_loss: 1.2521 - val_accuracy: 0.5128 - lr: 0.0010\n",
      "Epoch 3/8\n",
      "609/609 [==============================] - ETA: 0s - loss: 0.9763 - accuracy: 0.6241WARNING:tensorflow:Early stopping conditioned on metric `val_acc` which is not available. Available metrics are: loss,accuracy,val_loss,val_accuracy\n",
      "WARNING:tensorflow:Learning rate reduction is conditioned on metric `val_acc` which is not available. Available metrics are: loss,accuracy,val_loss,val_accuracy,lr\n",
      "609/609 [==============================] - 3522s 6s/step - loss: 0.9763 - accuracy: 0.6241 - val_loss: 1.6225 - val_accuracy: 0.4420 - lr: 0.0010\n",
      "Epoch 4/8\n",
      "609/609 [==============================] - ETA: 0s - loss: 0.9478 - accuracy: 0.6386WARNING:tensorflow:Early stopping conditioned on metric `val_acc` which is not available. Available metrics are: loss,accuracy,val_loss,val_accuracy\n",
      "WARNING:tensorflow:Learning rate reduction is conditioned on metric `val_acc` which is not available. Available metrics are: loss,accuracy,val_loss,val_accuracy,lr\n",
      "609/609 [==============================] - 3432s 6s/step - loss: 0.9478 - accuracy: 0.6386 - val_loss: 0.9486 - val_accuracy: 0.6381 - lr: 0.0010\n",
      "Epoch 5/8\n",
      "609/609 [==============================] - ETA: 0s - loss: 0.7777 - accuracy: 0.7053WARNING:tensorflow:Early stopping conditioned on metric `val_acc` which is not available. Available metrics are: loss,accuracy,val_loss,val_accuracy\n",
      "WARNING:tensorflow:Learning rate reduction is conditioned on metric `val_acc` which is not available. Available metrics are: loss,accuracy,val_loss,val_accuracy,lr\n",
      "609/609 [==============================] - 3431s 6s/step - loss: 0.7777 - accuracy: 0.7053 - val_loss: 0.8076 - val_accuracy: 0.6888 - lr: 0.0010\n",
      "Epoch 6/8\n",
      "609/609 [==============================] - ETA: 0s - loss: 0.6574 - accuracy: 0.7553WARNING:tensorflow:Early stopping conditioned on metric `val_acc` which is not available. Available metrics are: loss,accuracy,val_loss,val_accuracy\n",
      "WARNING:tensorflow:Learning rate reduction is conditioned on metric `val_acc` which is not available. Available metrics are: loss,accuracy,val_loss,val_accuracy,lr\n",
      "609/609 [==============================] - 3431s 6s/step - loss: 0.6574 - accuracy: 0.7553 - val_loss: 0.9616 - val_accuracy: 0.6528 - lr: 0.0010\n",
      "Epoch 7/8\n",
      "609/609 [==============================] - ETA: 0s - loss: 0.5945 - accuracy: 0.7807WARNING:tensorflow:Early stopping conditioned on metric `val_acc` which is not available. Available metrics are: loss,accuracy,val_loss,val_accuracy\n",
      "WARNING:tensorflow:Learning rate reduction is conditioned on metric `val_acc` which is not available. Available metrics are: loss,accuracy,val_loss,val_accuracy,lr\n",
      "609/609 [==============================] - 3419s 6s/step - loss: 0.5945 - accuracy: 0.7807 - val_loss: 0.6233 - val_accuracy: 0.7713 - lr: 0.0010\n",
      "Epoch 8/8\n",
      "609/609 [==============================] - ETA: 0s - loss: 0.4071 - accuracy: 0.8534WARNING:tensorflow:Early stopping conditioned on metric `val_acc` which is not available. Available metrics are: loss,accuracy,val_loss,val_accuracy\n",
      "WARNING:tensorflow:Learning rate reduction is conditioned on metric `val_acc` which is not available. Available metrics are: loss,accuracy,val_loss,val_accuracy,lr\n",
      "609/609 [==============================] - 3420s 6s/step - loss: 0.4071 - accuracy: 0.8534 - val_loss: 0.5040 - val_accuracy: 0.8192 - lr: 0.0010\n"
     ]
    }
   ],
   "source": [
    "history=model.fit(x_traincnn, y_train, epochs=8, validation_data=(x_testcnn, y_test), batch_size=64,callbacks=[early_stop,lr_reduction])"
   ]
  },
  {
   "cell_type": "code",
   "execution_count": null,
   "id": "f772d372-0dab-4b4b-b47e-8e7aa36237e5",
   "metadata": {},
   "outputs": [
    {
     "name": "stdout",
     "output_type": "stream",
     "text": [
      "305/305 [==============================] - 109s 356ms/step - loss: 0.5040 - accuracy: 0.8192\n",
      "Accuracy of our model on test data :  81.9200336933136 %\n"
     ]
    },
    {
     "data": {
      "image/png": "[encoded data removed]",
      "text/plain": [
       "<Figure size 2000x600 with 2 Axes>"
      ]
     },
     "metadata": {},
     "output_type": "display_data"
    }
   ],
   "source": [
    "print(\"Accuracy of our model on test data : \" , model.evaluate(x_testcnn,y_test)[1]*100 , \"%\")\n",
    "\n",
    "epochs = [i for i in range(8)]\n",
    "fig , ax = plt.subplots(1,2)\n",
    "train_acc = history.history['accuracy']\n",
    "train_loss = history.history['loss']\n",
    "test_acc = history.history['val_accuracy']\n",
    "test_loss = history.history['val_loss']\n",
    "\n",
    "fig.set_size_inches(20,6)\n",
    "ax[0].plot(epochs , train_loss , label = 'Training Loss')\n",
    "ax[0].plot(epochs , test_loss , label = 'Testing Loss')\n",
    "ax[0].set_title('Training & Testing Loss')\n",
    "ax[0].legend()\n",
    "ax[0].set_xlabel(\"Epochs\")\n",
    "\n",
    "ax[1].plot(epochs , train_acc , label = 'Training Accuracy')\n",
    "ax[1].plot(epochs , test_acc , label = 'Testing Accuracy')\n",
    "ax[1].set_title('Training & Testing Accuracy')\n",
    "ax[1].legend()\n",
    "ax[1].set_xlabel(\"Epochs\")\n",
    "plt.show()"
   ]
  },
  {
   "cell_type": "code",
   "execution_count": null,
   "id": "b54278c3-66ce-46e0-9508-ade81bf76589",
   "metadata": {},
   "outputs": [
    {
     "name": "stdout",
     "output_type": "stream",
     "text": [
      "305/305 [==============================] - 109s 355ms/step\n"
     ]
    },
    {
     "data": {
      "text/html": [
       "<div>\n",
       "<style scoped>\n",
       "    .dataframe tbody tr th:only-of-type {\n",
       "        vertical-align: middle;\n",
       "    }\n",
       "\n",
       "    .dataframe tbody tr th {\n",
       "        vertical-align: top;\n",
       "    }\n",
       "\n",
       "    .dataframe thead th {\n",
       "        text-align: right;\n",
       "    }\n",
       "</style>\n",
       "<table border=\"1\" class=\"dataframe\">\n",
       "  <thead>\n",
       "    <tr style=\"text-align: right;\">\n",
       "      <th></th>\n",
       "      <th>Predicted Labels</th>\n",
       "      <th>Actual Labels</th>\n",
       "    </tr>\n",
       "  </thead>\n",
       "  <tbody>\n",
       "    <tr>\n",
       "      <th>0</th>\n",
       "      <td>neutral</td>\n",
       "      <td>neutral</td>\n",
       "    </tr>\n",
       "    <tr>\n",
       "      <th>1</th>\n",
       "      <td>surprise</td>\n",
       "      <td>surprise</td>\n",
       "    </tr>\n",
       "    <tr>\n",
       "      <th>2</th>\n",
       "      <td>fear</td>\n",
       "      <td>fear</td>\n",
       "    </tr>\n",
       "    <tr>\n",
       "      <th>3</th>\n",
       "      <td>fear</td>\n",
       "      <td>fear</td>\n",
       "    </tr>\n",
       "    <tr>\n",
       "      <th>4</th>\n",
       "      <td>disgust</td>\n",
       "      <td>fear</td>\n",
       "    </tr>\n",
       "    <tr>\n",
       "      <th>...</th>\n",
       "      <td>...</td>\n",
       "      <td>...</td>\n",
       "    </tr>\n",
       "    <tr>\n",
       "      <th>9724</th>\n",
       "      <td>angry</td>\n",
       "      <td>angry</td>\n",
       "    </tr>\n",
       "    <tr>\n",
       "      <th>9725</th>\n",
       "      <td>angry</td>\n",
       "      <td>angry</td>\n",
       "    </tr>\n",
       "    <tr>\n",
       "      <th>9726</th>\n",
       "      <td>neutral</td>\n",
       "      <td>neutral</td>\n",
       "    </tr>\n",
       "    <tr>\n",
       "      <th>9727</th>\n",
       "      <td>sad</td>\n",
       "      <td>sad</td>\n",
       "    </tr>\n",
       "    <tr>\n",
       "      <th>9728</th>\n",
       "      <td>neutral</td>\n",
       "      <td>neutral</td>\n",
       "    </tr>\n",
       "  </tbody>\n",
       "</table>\n",
       "<p>9729 rows × 2 columns</p>\n",
       "</div>"
      ],
      "text/plain": [
       "     Predicted Labels Actual Labels\n",
       "0             neutral       neutral\n",
       "1            surprise      surprise\n",
       "2                fear          fear\n",
       "3                fear          fear\n",
       "4             disgust          fear\n",
       "...               ...           ...\n",
       "9724            angry         angry\n",
       "9725            angry         angry\n",
       "9726          neutral       neutral\n",
       "9727              sad           sad\n",
       "9728          neutral       neutral\n",
       "\n",
       "[9729 rows x 2 columns]"
      ]
     },
     "execution_count": 44,
     "metadata": {},
     "output_type": "execute_result"
    }
   ],
   "source": [
    "# predicting on test data.\n",
    "pred_test0 = model.predict(x_testcnn)\n",
    "y_pred0 = encoder.inverse_transform(pred_test0)\n",
    "y_test0 = encoder.inverse_transform(y_test)\n",
    "\n",
    "# Check for random predictions\n",
    "df0 = pd.DataFrame(columns=['Predicted Labels', 'Actual Labels'])\n",
    "df0['Predicted Labels'] = y_pred0.flatten()\n",
    "df0['Actual Labels'] = y_test0.flatten()\n",
    "\n",
    "df0"
   ]
  },
  {
   "cell_type": "markdown",
   "id": "b93e8ce1",
   "metadata": {},
   "source": [
    "## Evalutation"
   ]
  },
  {
   "cell_type": "code",
   "execution_count": null,
   "id": "75b5045a-ed38-4e92-98a7-1d8ce0193f69",
   "metadata": {},
   "outputs": [
    {
     "data": {
      "image/png": "[encoded data removed]",
      "text/plain": [
       "<Figure size 1200x1000 with 2 Axes>"
      ]
     },
     "metadata": {},
     "output_type": "display_data"
    },
    {
     "name": "stdout",
     "output_type": "stream",
     "text": [
      "              precision    recall  f1-score   support\n",
      "\n",
      "       angry       0.89      0.85      0.87      1514\n",
      "     disgust       0.77      0.85      0.80      1510\n",
      "        fear       0.85      0.72      0.78      1572\n",
      "       happy       0.80      0.80      0.80      1555\n",
      "     neutral       0.77      0.90      0.83      1515\n",
      "         sad       0.80      0.78      0.79      1534\n",
      "    surprise       0.97      0.91      0.94       529\n",
      "\n",
      "    accuracy                           0.82      9729\n",
      "   macro avg       0.84      0.83      0.83      9729\n",
      "weighted avg       0.82      0.82      0.82      9729\n",
      "\n"
     ]
    }
   ],
   "source": [
    "from sklearn.metrics import confusion_matrix,classification_report\n",
    "cm = confusion_matrix(y_test0, y_pred0)\n",
    "plt.figure(figsize = (12, 10))\n",
    "cm = pd.DataFrame(cm , index = [i for i in encoder.categories_] , columns = [i for i in encoder.categories_])\n",
    "#cm = cm.astype('float') / cm.sum(axis=1)[:, np.newaxis]\n",
    "sns.heatmap(cm, linecolor='white', cmap='Blues', linewidth=1, annot=True, fmt='.2f')\n",
    "plt.title('Confusion Matrix', size=20)\n",
    "plt.xlabel('Predicted Labels', size=14)\n",
    "plt.ylabel('Actual Labels', size=14)\n",
    "plt.show()\n",
    "print(classification_report(y_test0, y_pred0))"
   ]
  },
  {
   "cell_type": "markdown",
   "id": "59c99688",
   "metadata": {},
   "source": [
    "## Saving Model"
   ]
  },
  {
   "cell_type": "code",
   "execution_count": null,
   "id": "61456d90-b00d-498e-b653-9c8c1f5cdd58",
   "metadata": {},
   "outputs": [
    {
     "name": "stdout",
     "output_type": "stream",
     "text": [
      "Saved model to disk\n"
     ]
    }
   ],
   "source": [
    "from tensorflow.keras.models import Sequential, model_from_json\n",
    "model_json = model.to_json()\n",
    "with open(\"C:/Users/Usuario/Documents/Universidad/CNN_model.json\", \"w\") as json_file:\n",
    "    json_file.write(model_json)\n",
    "# serialize weights to HDF5\n",
    "model.save_weights(\"C:/Users/Usuario/Documents/Universidad/CNN_model_weights.h5\")\n",
    "print(\"Saved model to disk\") "
   ]
  },
  {
   "cell_type": "code",
   "execution_count": null,
   "id": "fb939497-7d46-431f-aaa6-4d0814827fda",
   "metadata": {},
   "outputs": [
    {
     "name": "stdout",
     "output_type": "stream",
     "text": [
      "Done\n"
     ]
    }
   ],
   "source": [
    "import pickle\n",
    "\n",
    "# Saving scaler\n",
    "with open('C:/Users/Usuario/Documents/Universidad/scaler2.pickle', 'wb') as f:\n",
    "    pickle.dump(scaler, f)\n",
    "\n",
    "# Loading scaler\n",
    "with open('C:/Users/Usuario/Documents/Universidad/scaler2.pickle', 'rb') as f:\n",
    "    scaler2 = pickle.load(f)\n",
    "\n",
    "# Saving encoder\n",
    "with open('C:/Users/Usuario/Documents/Universidad/encoder2.pickle', 'wb') as f:\n",
    "    pickle.dump(encoder, f)\n",
    "\n",
    "# Loading encoder\n",
    "with open('C:/Users/Usuario/Documents/Universidad/encoder2.pickle', 'rb') as f:\n",
    "    encoder2 = pickle.load(f)\n",
    "\n",
    "    \n",
    "print(\"Done\")    "
   ]
  },
  {
   "cell_type": "code",
   "execution_count": null,
   "id": "e6531800-d609-4f5d-9d95-831cb295fc3b",
   "metadata": {},
   "outputs": [],
   "source": []
  }
 ],
 "metadata": {
  "kernelspec": {
   "display_name": "Python 3 (ipykernel)",
   "language": "python",
   "name": "python3"
  },
  "language_info": {
   "codemirror_mode": {
    "name": "ipython",
    "version": 3
   },
   "file_extension": ".py",
   "mimetype": "text/x-python",
   "name": "python",
   "nbconvert_exporter": "python",
   "pygments_lexer": "ipython3",
   "version": "3.10.0"
  }
 },
 "nbformat": 4,
 "nbformat_minor": 5
}
